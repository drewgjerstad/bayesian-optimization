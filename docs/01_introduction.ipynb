{
 "cells": [
  {
   "cell_type": "markdown",
   "id": "37aee39e",
   "metadata": {},
   "source": [
    "# Introduction to Bayesian Optimization\n",
    "**Drew Gjerstad**"
   ]
  },
  {
   "cell_type": "markdown",
   "id": "7e80d8a2",
   "metadata": {},
   "source": [
    "## Contents\n",
    " * [Introduction](#introduction)\n",
    " * [Motivation](#motivation)\n",
    "     - [Theoretical Motivation](#theoretical-motivation)\n",
    "     - [Applications](#applications)\n",
    " * [Optimization Foundations](#optimization-foundations)\n",
    " * [Bayesian Foundations](#bayesian-foundations)\n",
    " * [The Bayesian Approach](#the-bayesian-approach)\n",
    " * [Bayesian Optimization Workflow](#bayesian-optimization-workflow)\n",
    " * [References](#references)"
   ]
  },
  {
   "cell_type": "markdown",
   "id": "f1b59344",
   "metadata": {},
   "source": [
    "## Introduction"
   ]
  },
  {
   "cell_type": "markdown",
   "id": "dc43edba",
   "metadata": {},
   "source": [
    "## Motivation"
   ]
  },
  {
   "cell_type": "markdown",
   "id": "ce9d672e",
   "metadata": {},
   "source": [
    "### Theoretical Motivation"
   ]
  },
  {
   "cell_type": "markdown",
   "id": "52388cfa",
   "metadata": {},
   "source": [
    "### Applications"
   ]
  },
  {
   "cell_type": "markdown",
   "id": "437fac8e",
   "metadata": {},
   "source": [
    "## Optimization Foundations"
   ]
  },
  {
   "cell_type": "markdown",
   "id": "00978efa",
   "metadata": {},
   "source": [
    "## Bayesian Foundations"
   ]
  },
  {
   "cell_type": "markdown",
   "id": "88018602",
   "metadata": {},
   "source": [
    "## The Bayesian Approach"
   ]
  },
  {
   "cell_type": "markdown",
   "id": "d5da8380",
   "metadata": {},
   "source": [
    "## Bayesian Optimization Workflow"
   ]
  },
  {
   "cell_type": "markdown",
   "id": "20c01ee4",
   "metadata": {},
   "source": [
    "## References"
   ]
  }
 ],
 "metadata": {
  "language_info": {
   "name": "python"
  }
 },
 "nbformat": 4,
 "nbformat_minor": 5
}
