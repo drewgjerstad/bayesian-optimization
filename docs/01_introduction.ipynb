{
 "cells": [
  {
   "cell_type": "markdown",
   "id": "37aee39e",
   "metadata": {},
   "source": [
    "# Introduction to Bayesian Optimization\n",
    "**Drew Gjerstad**  \n",
    "\n",
    "_Bayesian Optimization Series_  \n",
    "[github.com/drewgjerstad/bayesian-optimization](https://github.com/drewgjerstad/bayesian-optimization)"
   ]
  },
  {
   "cell_type": "markdown",
   "id": "7e80d8a2",
   "metadata": {},
   "source": [
    "## Contents\n",
    " * [Introduction](#introduction)\n",
    " * [Motivation](#motivation)\n",
    "     - [Theoretical Motivation](#theoretical-motivation)\n",
    "     - [Applications](#applications)\n",
    " * [Optimization Foundations](#optimization-foundations)\n",
    " * [Bayesian Foundations](#bayesian-foundations)\n",
    " * [The Bayesian Approach](#the-bayesian-approach)\n",
    " * [Bayesian Optimization Workflow](#bayesian-optimization-workflow)\n",
    " * [References](#references)"
   ]
  },
  {
   "cell_type": "markdown",
   "id": "f1b59344",
   "metadata": {},
   "source": [
    "## Introduction\n",
    "**Bayesian optimization** refers to an optimization approach that uses Bayesian\n",
    "inference to guide the optimizer to make \"better\" decisions based on\n",
    "_uncertainty_. One attractive feature of this approach is its _unparalleled_\n",
    "sample efficiency (more on this later). Additionally, _uncertainty_ is inherent\n",
    "in all optimization decisions but we can use the Bayesian approach to tackle it,\n",
    "and often overcome it, in a strategic manner.\n",
    "\n",
    "The goal of this notebook is to introduce you to Bayesian optimization from a\n",
    "high-level perspective as well as introduce you to the \"Bayesian optimization\n",
    "workflow\" and the components involved. Additional notebooks that cover these\n",
    "topics in more depth can be found within the\n",
    "[`bayesian-optimization`](https://github.com/drewgjerstad/bayesian-optimization)\n",
    "repo. We begin with the theoretical motivation for Bayesian optimization and an\n",
    "overview of its applications."
   ]
  },
  {
   "cell_type": "markdown",
   "id": "dc43edba",
   "metadata": {},
   "source": [
    "## Motivation"
   ]
  },
  {
   "cell_type": "markdown",
   "id": "ce9d672e",
   "metadata": {},
   "source": [
    "### Theoretical Motivation"
   ]
  },
  {
   "cell_type": "markdown",
   "id": "52388cfa",
   "metadata": {},
   "source": [
    "### Applications"
   ]
  },
  {
   "cell_type": "markdown",
   "id": "437fac8e",
   "metadata": {},
   "source": [
    "## Optimization Foundations"
   ]
  },
  {
   "cell_type": "markdown",
   "id": "00978efa",
   "metadata": {},
   "source": [
    "## Bayesian Foundations"
   ]
  },
  {
   "cell_type": "markdown",
   "id": "88018602",
   "metadata": {},
   "source": [
    "## The Bayesian Approach"
   ]
  },
  {
   "cell_type": "markdown",
   "id": "d5da8380",
   "metadata": {},
   "source": [
    "## Bayesian Optimization Workflow"
   ]
  },
  {
   "cell_type": "markdown",
   "id": "da3ca8a1",
   "metadata": {},
   "source": [
    "### Surrogate Models"
   ]
  },
  {
   "cell_type": "markdown",
   "id": "8410fb45",
   "metadata": {},
   "source": [
    "### Acquisition Functions"
   ]
  },
  {
   "cell_type": "markdown",
   "id": "83a72e44",
   "metadata": {},
   "source": [
    "### Acquisition Function Optimizers"
   ]
  },
  {
   "cell_type": "markdown",
   "id": "20c01ee4",
   "metadata": {},
   "source": [
    "## References"
   ]
  }
 ],
 "metadata": {
  "language_info": {
   "name": "python"
  }
 },
 "nbformat": 4,
 "nbformat_minor": 5
}
