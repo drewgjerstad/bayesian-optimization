{
 "cells": [
  {
   "cell_type": "markdown",
   "id": "37aee39e",
   "metadata": {},
   "source": [
    "# Introduction to Bayesian Optimization\n",
    "**Drew Gjerstad**  \n",
    "\n",
    "_Bayesian Optimization Series_  \n",
    "[github.com/drewgjerstad/bayesian-optimization](https://github.com/drewgjerstad/bayesian-optimization)"
   ]
  },
  {
   "cell_type": "code",
   "execution_count": 1,
   "id": "22119228",
   "metadata": {},
   "outputs": [],
   "source": [
    "import numpy as np\n",
    "import scipy as sp\n",
    "import matplotlib.pyplot as plt"
   ]
  },
  {
   "cell_type": "markdown",
   "id": "7e80d8a2",
   "metadata": {},
   "source": [
    "## Contents\n",
    " * [Introduction](#introduction)\n",
    " * [Motivation](#motivation)\n",
    "     - [Theoretical Motivation](#theoretical-motivation)\n",
    "     - [Applications](#applications)\n",
    " * [Optimization Foundations](#optimization-foundations)\n",
    " * [Bayesian Foundations](#bayesian-foundations)\n",
    " * [The Bayesian Approach](#the-bayesian-approach)\n",
    " * [Bayesian Optimization Workflow](#bayesian-optimization-workflow)\n",
    " * [References](#references)"
   ]
  },
  {
   "cell_type": "markdown",
   "id": "f1b59344",
   "metadata": {},
   "source": [
    "## Introduction\n",
    "**Bayesian optimization** refers to an optimization approach that uses Bayesian\n",
    "inference to guide the optimizer to make \"better\" decisions based on\n",
    "_uncertainty_. One attractive feature of this approach is its _unparalleled_\n",
    "sample efficiency (more on this later). Additionally, _uncertainty_ is inherent\n",
    "in all optimization decisions but we can use the Bayesian approach to tackle it,\n",
    "and often overcome it, in a strategic manner.\n",
    "\n",
    "The goal of this notebook is to introduce you to Bayesian optimization from a\n",
    "high-level perspective as well as introduce you to the \"Bayesian optimization\n",
    "workflow\" and the components involved. Additional notebooks that cover these\n",
    "topics in more depth can be found within the\n",
    "[`bayesian-optimization`](https://github.com/drewgjerstad/bayesian-optimization)\n",
    "repo. We begin with the theoretical motivation for Bayesian optimization and an\n",
    "overview of its applications."
   ]
  },
  {
   "cell_type": "markdown",
   "id": "dc43edba",
   "metadata": {},
   "source": [
    "## Motivation"
   ]
  },
  {
   "cell_type": "markdown",
   "id": "ce9d672e",
   "metadata": {},
   "source": [
    "### Theoretical Motivation\n",
    "Before we explore the applications of Bayesian optimization, we must consider\n",
    "the theoretical motivation for such an approach. The theoretical motivation\n",
    "typically stems from the form or type of _objective_ (the \"function\" we are\n",
    "aiming to optimize).\n",
    "\n",
    " * **Black-box objective functions** are functions that we can only interact\n",
    "   with via its inputs and outputs meaning typical methods do not work. However,\n",
    "   we can usually approximate such an objective and use Bayesian optimization to\n",
    "   manage the uncertainty.\n",
    "\n",
    " * **Expensive-to-evaluate objective functions** are functions that require\n",
    "   significant computation effort to obtain their output. However, once again,\n",
    "   we can approximate and model these efficiently using the Bayesian approach.\n",
    "\n",
    " * More generally, this approach is very useful when the objectives lack\n",
    "   analytical evaluation (or, if analytical evaluation is expensive).\n",
    "\n",
    " * In some spaces such as discrete or combinatorial, the objectives may not have\n",
    "   efficient gradients (if they exist) and so classical gradient-based\n",
    "   optimization methods are incompatible.\n",
    "\n",
    "There are additional supporting points to the theoretical motivation for\n",
    "Bayesian optimization but these seem to be the most common, especially with\n",
    "regard to the form and properties of the objective."
   ]
  },
  {
   "cell_type": "markdown",
   "id": "52388cfa",
   "metadata": {},
   "source": [
    "### Applications\n",
    "The application potential of Bayesian optimization can be seen across several\n",
    "critical domains, especially those attempting to accelerate finding solutions to\n",
    "real-world scientific and engineering problems. Some of these applications\n",
    "include:\n",
    " * Drug Discovery\n",
    " * Molecule/Protein Discovery\n",
    " * Materials Design\n",
    " * AutoML (i.e., hyperparameter tuning)\n",
    " * Engineering Decisions\n",
    " * Many more...\n",
    "\n",
    "The images and diagrams below should help you form an idea of how Bayesian\n",
    "optimization fits into some of these applications. Note that this is by no means\n",
    "an exhaustive list nor should you worry too much about some of the contextual\n",
    "details of the specific applications shown. This is merely to provide real-world\n",
    "motivation for this optimization approach."
   ]
  },
  {
   "cell_type": "markdown",
   "id": "d09d2cd6",
   "metadata": {},
   "source": [
    "#### Application: Drug Discovery\n",
    "The image below provides an example of optimization applied to a chemical\n",
    "process problem (common in drug discovery). Don't worry about the details\n",
    "regarding the formulation of the problem itself but rather consider the fact\n",
    "that running chemical synthesis experiments require two things: _time_ and\n",
    "_money_. Therefore, scientists want to accelerate finding optimal solutions or\n",
    "in this case, optimal chemical processes/reactions.\n",
    "\n",
    "In the bottom right of the image, four common (classical) approaches to this\n",
    "optimization problem are shown. However, these approaches are likely expensive\n",
    "(as mentioned previously). Therefore, the alternative approach, Bayesian\n",
    "optimization, is shown in the bottom left of the image. Bayesian optimization\n",
    "can use data from previous experiments to locate points (samples) that may\n",
    "optimize the unknown objective, while accounting for uncertainty in the model.\n",
    "These points will typically then be used to plan the next experiments since they\n",
    "represent samples of high utility. In this context, high utility means the point\n",
    "could be useful in optimizing the reaction parameter.\n",
    "\n",
    "<img src=\"graphics/01-introduction/applications/drug-discovery.png\"\n",
    "     alt=\"Drug Discovery Application\" width=\"600\"/>\n",
    "\n",
    "Figure from _Bayesian optimization as a tool for chemical synthesis_ by Shields\n",
    "et al. (2021)"
   ]
  },
  {
   "cell_type": "markdown",
   "id": "ea94069a",
   "metadata": {},
   "source": [
    "#### Application: Molecule/Protein Discovery\n",
    "In the field of molecule and protein design, there are similar considerations to\n",
    "the ones in the previous application: experiments are costly. In the diagram\n",
    "below, the integration of Bayesian optimization with experimentation is shown.\n",
    "Scientists typically synthesize and test several different formulations to build\n",
    "a dataset. This dataset is used to help model the unknown objective and can be\n",
    "used to suggest new formulations. As new formulations are synthesized and\n",
    "tested, they are added to the dataset so as to inform the model and optimizer of\n",
    "formulations to suggest next.\n",
    "\n",
    "<img src=\"graphics/01-introduction/applications/molecule-protein-discovery.png\"\n",
    "     alt=\"Molecule/Protein Discovery Application\" width=600/>\n",
    "\n",
    "Figure from _Sequential closed-loop Bayesian optimization as a guide for_\n",
    "_organic molecular metallophotocatalyst formulation discovery_ by Li et al.\n",
    "(2024)"
   ]
  },
  {
   "cell_type": "markdown",
   "id": "7c39be15",
   "metadata": {},
   "source": [
    "#### Application: Materials Discovery\n",
    "The diagram below is very similar to the one for molecule/protein discovery\n",
    "except now it is demonstrating some additional specifics for materials design\n",
    "and discovery. Once again, the initial dataset is used to model the likely\n",
    "unknown objective to inform design exploration and then the results from the\n",
    "design exploration are used to augment the dataset. It appears that in this\n",
    "loop, the researchers are also using the experiments to help calibrate a\n",
    "simulation of designs, another application of Bayesian optimization.\n",
    "\n",
    "<img src=\"graphics/01-introduction/applications/materials-design.jpg\"\n",
    "     alt=\"Materials Discovery Application\" width=600/>\n",
    "\n",
    "Figure from _Bayesian optimization for Materials Design with Mixed_\n",
    "_Quantitative and Qualitative Variables_ by Zhang et al. (2020)"
   ]
  },
  {
   "cell_type": "markdown",
   "id": "2a95a5ae",
   "metadata": {},
   "source": [
    "#### Application: AutoML\n",
    "AutoML is the process of automating the machine learning workflow and often\n",
    "includes tuning models' hyperparameters. Bayesian optimization can be used to\n",
    "tune hyperparameters more efficiently by identifying the next hyperparameters to\n",
    "test based on the current model and its quantified uncertainty. The workflow\n",
    "below shows how hyperparameters for a neural network are tuned using Bayesian\n",
    "optimization (using a Gaussian process as a surrogate model).\n",
    "\n",
    "<img src=\"graphics/01-introduction/applications/automl.png\"\n",
    "     alt=\"AutoML Application\" width=600/>\n",
    "\n",
    "Figure from _Achieve Bayesian optimization for tuning hyperparameters_ by Edward\n",
    "Ortiz on _Medium_ (2020)"
   ]
  },
  {
   "cell_type": "markdown",
   "id": "a7eb7d77",
   "metadata": {},
   "source": [
    "#### Application: Engineering Decisions\n",
    "Bayesian optimization is also useful for making engineering decisions such as\n",
    "design choices to optimize hardware performance. In the diagram below, Bayesian\n",
    "optimization is being used to calibrate a particle accelerator in a similar\n",
    "manner as some of the previous examples. The \"operator\" inputs the target beam\n",
    "parameters while a camera inputs the observed beam parameters. Then, Bayesian\n",
    "optimization determines the changes (next set of beam parameters) to hopefully\n",
    "improve the calibration of the particle accelerator.\n",
    "\n",
    "<img src=\"graphics/01-introduction/applications/engineering-decisions.png\"\n",
    "     alt=\"Engineering Decisions Application\" width=600/>\n",
    "\n",
    "Figure from _Reinforcement learning-trained optimizers and Bayesian_\n",
    "_optimization for online particle accelerator tuning_ by Kaiser et al. (2024)"
   ]
  },
  {
   "cell_type": "markdown",
   "id": "437fac8e",
   "metadata": {},
   "source": [
    "## Optimization Foundations"
   ]
  },
  {
   "cell_type": "markdown",
   "id": "5fd257a1",
   "metadata": {},
   "source": [
    "In this section, we will examine the foundations of optimization to understand\n",
    "the ideas and methods that Bayesian optimization builds on. This will include\n",
    "formalizing optimization, objective functions, observation models, some common\n",
    "optimization policies, termination policies, and a diagram of the optimization\n",
    "process. For a more thorough examination of optimization, see Nocedal and\n",
    "Wright's _Numerical Optimization_ (Springer Series in Operations Research)."
   ]
  },
  {
   "cell_type": "markdown",
   "id": "0bff9434",
   "metadata": {},
   "source": [
    "**Optimization** is a process and field of study that aims to efficiently locate\n",
    "the optimal objective value and/or its location from the search domain and its\n",
    "corresponding objective values."
   ]
  },
  {
   "cell_type": "markdown",
   "id": "64bf5b86",
   "metadata": {},
   "source": [
    "### Formalization of Optimization"
   ]
  },
  {
   "cell_type": "markdown",
   "id": "039b4d31",
   "metadata": {},
   "source": [
    "Let's first formalize a typical optimization problem. This formulation is a\n",
    "simple and flexible one for global optimization and is not inherently Bayesian.\n",
    "Additionally, it is also formulating a _continuous_ optimization problem but\n",
    "there exists other \"types\" of optimization other than just continuous.\n",
    "\n",
    "\\begin{equation*}\n",
    "    x^* \\in \\argmax_{x \\in \\mathcal{X}} f(x)\n",
    "    \\hspace{36pt}\n",
    "    f^* = \\max_{x \\in \\mathcal{X}} f(x) = f(x^*)\n",
    "\\end{equation*}\n",
    "where $f:\\mathcal{X}\\rightarrow\\mathbb{R}$ is a real-valued _objective function_\n",
    "on some domain $\\mathcal{X}$, $x^*$ is the point that obtains the global maximum\n",
    "value $f^*$. Note that the $\\max$ versus $\\min$ is arbitrary and depends on the\n",
    "specific problem.\n",
    "\n",
    "_Black-box optimization_ arises from the fact that we do not need to have an\n",
    "explicit objective function $f$ but rather only some information about the\n",
    "objective at identified points.\n",
    "\n",
    "The code below creates a plot showing a objective function and points showing\n",
    "the _optima_. Optima are the points that either maximize or minimize (optimize)\n",
    "the objective function.\n",
    "\n",
    "\\begin{equation*}\n",
    "    f(x) = 10\\sin(0.2x)\\cos(0.1x) + \\sin(0.5x) + 0.05x\n",
    "\\end{equation*}"
   ]
  },
  {
   "cell_type": "code",
   "execution_count": null,
   "id": "a5a57461",
   "metadata": {},
   "outputs": [
    {
     "data": {
      "image/png": "[encoded data removed]",
      "text/plain": [
       "<Figure size 800x400 with 1 Axes>"
      ]
     },
     "metadata": {},
     "output_type": "display_data"
    }
   ],
   "source": [
    "# Plot Objective Function with Optima Labeled\n",
    "\n",
    "def objective(x:np.array)->np.array:\n",
    "    return (np.sin(0.2 * x) * np.cos(0.1 * x) * 10 +\n",
    "            np.sin(0.5 * x) + 0.05 * x)\n",
    "\n",
    "x = np.linspace(0, 50, 1000)\n",
    "y = objective(x)\n",
    "\n",
    "plt.figure(figsize=(8, 4))\n",
    "plt.plot(x, y, label=\"Objective Function\", c=\"gray\", linestyle=\"--\")\n",
    "plt.scatter(x[np.argmax(y)], np.max(y), label=\"Global Max\", c=\"r\")\n",
    "plt.scatter(x[np.argmin(y)], np.min(y), label=\"Global Min\", c=\"r\", marker=\"D\")\n",
    "plt.scatter(x[np.argmax(y[:200])], np.max(y[:200]), label=\"Local Max\",\n",
    "            c=\"g\", marker=\"o\")\n",
    "plt.scatter(x[np.argmax(y[800:]) + 800], np.max(y[800:]), label=\"Local Max\",\n",
    "            c=\"g\", marker=\"o\")\n",
    "plt.scatter(x[np.argmin(y[200:400]) + 200], np.min(y[200:400]),\n",
    "            label=\"Local Min\", c=\"b\", marker=\"D\")\n",
    "plt.legend()\n",
    "plt.show()"
   ]
  },
  {
   "cell_type": "markdown",
   "id": "7ea64286",
   "metadata": {},
   "source": [
    "It must be emphasized that the use of NumPy's functions for finding the\n",
    "argument (location) and value for each minimum/maximum is purely for\n",
    "the purposes of visualization. In optimization, we would typically want to avoid \n",
    "computing the objective function at each location in the space but rather use\n",
    "methods to find the optima in a more efficient manner."
   ]
  },
  {
   "cell_type": "markdown",
   "id": "982cc501",
   "metadata": {},
   "source": [
    "### Objective Functions"
   ]
  },
  {
   "cell_type": "markdown",
   "id": "0a9064fe",
   "metadata": {},
   "source": [
    "The **objective function** is the function that we want to optimize. For some\n",
    "problems, there is a mathematical model that can be developed to describe the\n",
    "objective. However, in many real-world applications, there is no analytical or\n",
    "mathematical model to describe the objective (one of the motivations for\n",
    "Bayesian optimization).\n",
    "\n",
    "Some objective functions are convex with only a single, unique global minimum\n",
    "or maximum. Other functions are non-convex and might have several local optima\n",
    "or a flat region with many saddle points. The plot below shows these three\n",
    "general types of objectives."
   ]
  },
  {
   "cell_type": "code",
   "execution_count": 162,
   "id": "88a344b3",
   "metadata": {},
   "outputs": [
    {
     "data": {
      "image/png": "[encoded data removed]",
      "text/plain": [
       "<Figure size 1000x400 with 3 Axes>"
      ]
     },
     "metadata": {},
     "output_type": "display_data"
    }
   ],
   "source": [
    "# Plot General Types of Objective Functions\n",
    "\n",
    "def objective_convex(x:np.array)->np.array:\n",
    "    return 0.1*(x - 5)**2\n",
    "\n",
    "def objective_non_convex(x:np.array)->np.array:\n",
    "    return np.sin(2*x) * np.cos(x) * 10 + np.sin(0.5 * x) + 0.05 * x\n",
    "\n",
    "def objective_non_convex_saddle(x:np.array)->np.array:\n",
    "    return (x - 5)**3 - 100 * np.exp(-((x - 8)**2))\n",
    "\n",
    "x = np.linspace(0, 10, 1000)\n",
    "\n",
    "fig, ax = plt.subplots(nrows=1, ncols=3, figsize=(10, 4))\n",
    "ax[0].plot(x, objective_convex(x))\n",
    "ax[0].set_title(\"Convex with\\n Unique Optima\")\n",
    "ax[1].plot(x, objective_non_convex(x))\n",
    "ax[1].set_title(\"Non-Convex with\\nSeveral Optima\")\n",
    "ax[2].plot(x, objective_non_convex_saddle(x))\n",
    "ax[2].set_title(\"Non-Convex with\\nSaddle Points\")\n",
    "plt.show()"
   ]
  },
  {
   "cell_type": "markdown",
   "id": "29e5720e",
   "metadata": {},
   "source": [
    "While the plots showing non-convex objective functions pose difficulty to\n",
    "efficiently optimize such functions, there are other characteristics (listed\n",
    "below) of objective functions common in Bayesian optimization that also lead to\n",
    "issues.\n",
    " * The objective is considered to be a ``black-box`` function meaning we can\n",
    "   only interact with the objective via its inputs and outputs.\n",
    "\n",
    " * The objective's returned value is corrupted by some sort of noise and does\n",
    "   not represent the exact true objective value at that location.\n",
    "\n",
    " * The cost of evaluating the objective function is high and requires a\n",
    "   sample efficient method to avoid expensive probing.\n",
    "\n",
    " * There do not exist gradients (if we did, efficient gradient-based methods\n",
    "   could be employed to locate and evaluate optima)."
   ]
  },
  {
   "cell_type": "markdown",
   "id": "019a06dc",
   "metadata": {},
   "source": [
    "### Observation Models"
   ]
  },
  {
   "cell_type": "markdown",
   "id": "c3be5c8b",
   "metadata": {},
   "source": [
    "Observation models are similar to the idea of surrogate models used in the\n",
    "Bayesian optimization workflow but there are some key differences. The observation is used to describe how the true objective is _observed_, usually\n",
    "accounting for some form of noise. On the other hand, the surrogate model is\n",
    "a probabilistic model (i.e., Gaussian process) used to approximate the unknown\n",
    "objective function.\n",
    "\n",
    "Specifically, the **observation model** is an approach to formalize the\n",
    "relationship between the true objective function, the actual observation, and\n",
    "the noise. This is rather important since the model used to relate the true\n",
    "objective and actual observations must account for uncertainty due to noise.\n",
    "Mathematically, this is the probability distribution of $y$ given the sample\n",
    "location $x$ and true objective function $f$:\n",
    "\n",
    "\\begin{equation*}\n",
    "    p(y \\vert f, x)\n",
    "\\end{equation*}\n",
    "\n",
    "To account for uncertainty, we assume that the observations are _stochastically_\n",
    "dependent on the objective. Mathematically, we assume an additive noise term\n",
    "$\\varepsilon$:\n",
    "\n",
    "\\begin{equation*}\n",
    "    y = f(x) + \\varepsilon\n",
    "\\end{equation*}\n",
    "\n",
    "Let $\\varepsilon \\sim \\mathcal{N}(0, \\sigma^2)$. Then, the model becomes:\n",
    "\n",
    "\\begin{equation*}\n",
    "    p(y \\vert x, f, \\sigma) = \\mathcal{N}(y; f, \\sigma^2)\n",
    "\\end{equation*}\n",
    "\n",
    "Thus, the observation $y$ at sample location $x$ is treated as a _random_\n",
    "_variable_ which follows a Gaussian, or normal, distribution with mean $f$ and\n",
    "variance $\\sigma^2$. This leads to the distribution of $y$ being centered around\n",
    "the true objective value at sample location $x$, $f(x)$."
   ]
  },
  {
   "cell_type": "code",
   "execution_count": 153,
   "id": "5d31477d",
   "metadata": {},
   "outputs": [
    {
     "data": {
      "image/png": "[encoded data removed]",
      "text/plain": [
       "<Figure size 800x400 with 1 Axes>"
      ]
     },
     "metadata": {},
     "output_type": "display_data"
    }
   ],
   "source": [
    "# Plot Example Observation Model\n",
    "\n",
    "def true_objective(x:np.array)->np.array:\n",
    "    return np.sin(0.75 * x)\n",
    "\n",
    "def observation(x:np.array, sd:float)->np.array:\n",
    "    return true_objective(x) + np.random.normal(0, sd, x.shape)\n",
    "\n",
    "x = np.linspace(0, 10, 1000)\n",
    "samples = np.linspace(0, 10, 100)\n",
    "\n",
    "plt.figure(figsize=(8, 4))\n",
    "plt.plot(x, true_objective(x), label=\"True Objective\", c=\"b\")\n",
    "plt.scatter(samples, observation(samples, sd=0.5), label=\"Observations\", c=\"k\")\n",
    "plt.title(\"Observation Model Example\")\n",
    "plt.legend()\n",
    "plt.show()"
   ]
  },
  {
   "cell_type": "markdown",
   "id": "e757a5b1",
   "metadata": {},
   "source": [
    "In the plot above, the true objective is shown in addition to 100 observations\n",
    "that have an additive term of random (Gaussian, or normal) noise. The\n",
    "observation model will need to take this into account since noise, often called\n",
    "_uncertainty_ in Bayesian optimization, is inherent in real-world problems. It\n",
    "can come from measurement errors, environmental factors, or simply the\n",
    "randomness in the system being optimized."
   ]
  },
  {
   "cell_type": "markdown",
   "id": "edf63253",
   "metadata": {},
   "source": [
    "### Optimization Policies"
   ]
  },
  {
   "cell_type": "markdown",
   "id": "1bbcbf59",
   "metadata": {},
   "source": [
    "In simple terms, the optimization policy handles the repeated interactions\n",
    "between the \"inner-workings\" of the policy and the environment, with the\n",
    "environment typically being _noise-corrupted_ (hence the need for an observation\n",
    "model).\n",
    "\n",
    "More definitive, a **policy** is a mapping function that takes in a new input\n",
    "observation plus any existing observations and uses a _principled_ sampling\n",
    "approach to output the next observation location. It will also decide if it\n",
    "should perform another iteration (select a new observation) or terminate the\n",
    "optimization process (see _Termination Policies_ below).\n",
    "\n",
    "For most applications, we want the policy to ideally be learning and improving\n",
    "such that it will guide the search toward the global optimum more effectively.\n",
    "Furthermore, the iterative policy improvement should lead to a good policy that\n",
    "retains the (typically limited) sampling budget for more promising candidate\n",
    "points. A policy that does not consider observed data are known as a\n",
    "_non-adaptive_ policy and is not ideal for costly observations.\n",
    "\n",
    "Note that in some literature, there is little distinction between the\n",
    "optimization policy and the termination policy (discussed next). To be clear,\n",
    "the termination policy is one of the several components that make up the\n",
    "optimization policy. This lack of distinction is not unreasonable but rather\n",
    "something to be aware of when reviewing the vast literature on optimization."
   ]
  },
  {
   "cell_type": "markdown",
   "id": "3fce34c4",
   "metadata": {},
   "source": [
    "### Termination Policies"
   ]
  },
  {
   "cell_type": "markdown",
   "id": "7049db4c",
   "metadata": {},
   "source": [
    "A **termination policy** is the final decision in the optimization loop. The\n",
    "policy decides whether to terminate immediately or continue with another\n",
    "observation (continue to optimize the objective). Such policies can be\n",
    "_deterministic_ or _stochastic_.\n",
    " * A **deterministic termination policy** is one that will stop the optimization\n",
    "   process after reaching a goal or exhausting a pre-defined search budget.\n",
    "\n",
    " * A **stochastic termination policy** is one that will depend on the observed\n",
    "   data and some level of randomness or probability.\n",
    "\n",
    "Note that this piece of the optimization process can be handled by an external\n",
    "agent or be dynamic (i.e., a deterministic or stochastic termination policy).\n",
    "For the purposes of this notebook, we will not focus on specific termination\n",
    "policies here. This is primarily due to the fact that the termination policy\n",
    "depends heavily on the approach or method and the problem/application."
   ]
  },
  {
   "cell_type": "markdown",
   "id": "d8d86157",
   "metadata": {},
   "source": [
    "### Diagram of the Optimization Process"
   ]
  },
  {
   "cell_type": "markdown",
   "id": "9d5ce9b6",
   "metadata": {},
   "source": [
    "<img src=\"graphics/01-introduction/opt-foundations/process-diagram.png\"\n",
    "     alt=\"Optimization Process Diagram\" width=600/>"
   ]
  },
  {
   "cell_type": "markdown",
   "id": "00978efa",
   "metadata": {},
   "source": [
    "## Bayesian Foundations"
   ]
  },
  {
   "cell_type": "markdown",
   "id": "12097e13",
   "metadata": {},
   "source": [
    "Before we venture into the world of Bayesian optimization, we must first review\n",
    "some foundations of Bayesian statistics. For a more comprehensive examination of\n",
    "Bayesian statistics, the reader is referred to _Mathematical Statistics and_\n",
    "_Data Analysis_ by John A. Rice or _Bayesian Optimization_ by Roman Garnett\n",
    "(which provides an optimization-focused review).\n",
    "\n",
    "In Bayesian optimization, we use Bayesian statistics to reason in a systematic\n",
    "and quantitative manner about the uncertainty in the observation (surrogate)\n",
    "model using probabilities.\n",
    "\n",
    "One of the core ideas in Bayesian statistics is **Bayesian inference**. Bayesian\n",
    "inference uses Bayes' Theorem to reason about how the prior distribution\n",
    "$p(\\theta)$, the likelihood $p(\\text{data}\\vert\\theta)$, and the posterior\n",
    "distribution $p(\\theta\\vert\\text{data})$ interact with each other (where\n",
    "$\\theta$ represents the parameter of interest). Bayes' Theorem is given below:\n",
    "\n",
    "\\begin{equation*}\n",
    "    p(\\theta\\vert\\text{data}) = \\frac{p(\\text{data}\\vert\\theta)p(\\theta)}\n",
    "        {p(\\text{data})}\n",
    "\\end{equation*}\n",
    "\n",
    "Let's back up a bit and break this down. First, in simpler terms, Bayesian\n",
    "inference is a framework used to infer uncertain features (variables) of a\n",
    "particular system of interest from observations using the laws of probability.\n",
    "\n",
    "Within Bayesian inference framework, all unknown quantities are considered to\n",
    "be _random variables_. This enables us to represent our beliefs with probability\n",
    "distributions that reflect plausible values. We begin first with a **prior**\n",
    "**distribution**, $p(\\theta)$ that represents our beliefs before seeing any\n",
    "data. For instance, if we believe that the data is normally distributed then we\n",
    "would define the prior distribution to be the Gaussian normal distribution with\n",
    "mean $\\mu$ and standard deviation $\\sigma$.\n",
    "\n",
    "Next, we are able to refine our initial beliefs after we have observed some data\n",
    "using the **likelihood** $p(\\text{data}\\vert\\theta)$. The likelihood, or\n",
    "likelihood function, provides the distribution of observed values ($y$) given\n",
    "the location $(x)$ and values of interest ($\\theta$).\n",
    "\n",
    "Using the observed value $y$, we can derive the **posterior distribution** of\n",
    "$\\theta$ using Bayes' theorem, as defined previously.\n",
    "\n",
    "\\begin{equation*}\n",
    "    p(\\theta\\vert x, y) = \\frac{p(\\theta)p(y\\vert x, \\theta)}{p(y\\vert x)}\n",
    "\\end{equation*}\n",
    "\n",
    "This so-called posterior distribution represents a \"compromise\" between our\n",
    "beliefs or experience from the prior and our observations from the likelihood.\n",
    "The posterior distribution is at the heart of Bayesian optimization since we use\n",
    "it to update the surrogate model as we acquire new observations."
   ]
  },
  {
   "cell_type": "markdown",
   "id": "e8e6f39e",
   "metadata": {},
   "source": [
    "### Bayesian Inference of the Objective Function"
   ]
  },
  {
   "cell_type": "markdown",
   "id": "43b80849",
   "metadata": {},
   "source": [
    "The primary use of Bayesian inference in Bayesian optimization is with respect\n",
    "to the objective function, the source of uncertainty. The probabilistic belief\n",
    "we use over the objective function is called a _stochastic process_.\n",
    "\n",
    "A **stochastic process** is a probability distribution over an infinite\n",
    "collection of random variables, for example, the objective function value at\n",
    "every point in the domain.\n",
    "\n",
    "We will express any assumptions that we may have about the objective function\n",
    "in a **prior process** $p(\\mathcal{f})$. Then, a stochastic process can be\n",
    "defined via the distribution of the function values $\\boldsymbol{\\phi}$ given a\n",
    "finite set of points $\\boldsymbol{x}$:\n",
    "\n",
    "\\begin{equation*}\n",
    "    p(\\boldsymbol{\\phi}\\vert\\boldsymbol{x})\n",
    "\\end{equation*}\n",
    "\n",
    "In Bayesian optimization, the gold standard stochastic process is the\n",
    "**Gaussian process** since many of these finite-dimensional distributions are\n",
    "multivariate Gaussian (or approximately so).\n",
    "\n",
    "Returning to the discussion of Bayesian inference over the objective, suppose we\n",
    "make a set of observations at locations $\\boldsymbol{x}$ with corresponding\n",
    "vaulues $\\boldsymbol{y}$. Let $\\mathcal{D} = (\\boldsymbol{x},\\boldsymbol{y})$ be\n",
    "the dataset of aggregated observations.\n",
    "\n",
    "Bayesian inference will account for these observations via the formation of the\n",
    "**posterior process** (akin to the posterior predictive distribution):\n",
    "\n",
    "\\begin{equation*}\n",
    "    p(\\mathcal{f}\\vert\\mathcal{D}) =\n",
    "    \\int p(\\mathcal{f}\\vert\\boldsymbol{x},\\boldsymbol{\\phi})\n",
    "    p(\\boldsymbol{\\phi}\\vert\\mathcal{D})\\hspace{2pt}\\text{d}\\boldsymbol{\\phi}\n",
    "\\end{equation*}"
   ]
  },
  {
   "cell_type": "markdown",
   "id": "88018602",
   "metadata": {},
   "source": [
    "## The Bayesian Approach"
   ]
  },
  {
   "cell_type": "markdown",
   "id": "14ea2317",
   "metadata": {},
   "source": [
    "The notion of the \"Bayesian approach\" (particularly in the context of\n",
    "optimization) refers to a philosophical approach derived from Bayesian\n",
    "inference. The Bayesian approach allows us to tackle uncertainty inherent in\n",
    "optimization decisions, a crucial property since decisions will determine our\n",
    "success. To do this, it systematically relies on probability laws and Bayesian\n",
    "inference to reason about uncertainty during optimization.\n",
    "\n",
    "For instance, as briefly discussed in the previous section, the objective\n",
    "function is regarded as a random variable that is to be informed by our prior\n",
    "expectations and prior observations. This approach will play an active role in\n",
    "the optimization as it will guide the optimization policy, specifically by\n",
    "evaluating the merit of a candidate observation. Furthermore, it leads to the\n",
    "development of **uncertainty-aware optimization policies**."
   ]
  },
  {
   "cell_type": "markdown",
   "id": "5e796c0e",
   "metadata": {},
   "source": [
    "### Uncertainty-Aware Optimization Policies"
   ]
  },
  {
   "cell_type": "markdown",
   "id": "57f69a4b",
   "metadata": {},
   "source": [
    "Recall that the optimization policy determines the decisions, or actions, taken\n",
    "during the optimization process. In order to handle the uncertainty of the\n",
    "(potentially unknown or black-box) objective function, the policy should examine\n",
    "the available data (i.e., pre-existing observations and corresponding values) to\n",
    "determine the each successive observation location optimally. The only\n",
    "requirement from ourselves is to establish our preferences for what data or what\n",
    "kind of data we want to acquire and then maximize such preferences.\n",
    "\n",
    "Clearly, this will require some sort of framework to make decisions in this way,\n",
    "especially in the face of uncertainty. A natural choice is **Bayesian decision**\n",
    "**theory** which will be discussed in more detail in another notebook.\n",
    "\n",
    "As we continue to explore Bayesian optimization and uncertainty-aware policies,\n",
    "a common theme will begin to emerge: all Bayesian optimization policies handle\n",
    "the uncertainty in the objective function in a uniform manner, a property that\n",
    "is defined implicitly within an optimal _acquisition function_."
   ]
  },
  {
   "cell_type": "markdown",
   "id": "d5da8380",
   "metadata": {},
   "source": [
    "## Bayesian Optimization Workflow"
   ]
  },
  {
   "cell_type": "markdown",
   "id": "467fd22e",
   "metadata": {},
   "source": [
    "The Bayesian optimization workflow is composed of two main _primitives_: the\n",
    "surrogate model for expressing our beliefs and knowledge about the objective\n",
    "function, and the acquisition function that will guide the optimization policy\n",
    "to make optimal decisions about where to observe next. In this section, we will\n",
    "briefly discuss these two primitives to understand how they fit into this\n",
    "workflow. Note that these topics will be discussed more thoroughly in other\n",
    "notebooks."
   ]
  },
  {
   "cell_type": "markdown",
   "id": "da3ca8a1",
   "metadata": {},
   "source": [
    "### Surrogate Models"
   ]
  },
  {
   "cell_type": "markdown",
   "id": "7905d306",
   "metadata": {},
   "source": [
    "**Surrogate models** are the models that we use to express our beliefs and\n",
    "knowledge about the objective function. While in some literature the term\n",
    "_observation model_ is used interchangeably with _surrogate model_, they are\n",
    "distinguishable. In most applications, if we know some sort of mathematical\n",
    "formulation of the true objective then we refer to the model that relates the\n",
    "observations and the true objective as an _observation model_. However, if we\n",
    "do not know the underlying structure (as is the case with black-box functions),\n",
    "we refer to the model as a _surrogate model_ since it \"takes the place of\" and\n",
    "acts \"as a surrogate of\" the true underlying objective function.\n",
    "\n",
    "The specific use of the surrogate model is usually when we use the predictive\n",
    "posterior distribution (posterior process) to quantify the probabilities of\n",
    "observations usually in conjunction with utility functions. Therefore, the\n",
    "surrogate model is a powerful tool when we are reasoning about both the\n",
    "uncertainty and utility of candidate observations.\n",
    "\n",
    "Recall that the probability distributions of an infinite collection of random\n",
    "variables are jointly used as a _stochastic process_ that is used to\n",
    "characterize the true objective function. In Bayesian optimization, a common\n",
    "choice for the surrogate model in the family of stochastic processes is the\n",
    "**Gaussian process**. It is very common due to its flexibility, expressivity,\n",
    "and sufficient uncertainty quantification properties. For Gaussian processes\n",
    "specifically, the uncertainty is quantified via the credible interval but we\n",
    "will discuss such processes in more detail later."
   ]
  },
  {
   "cell_type": "markdown",
   "id": "8410fb45",
   "metadata": {},
   "source": [
    "### Acquisition Functions"
   ]
  },
  {
   "cell_type": "markdown",
   "id": "f843702c",
   "metadata": {},
   "source": [
    "**Acquisition functions** assign a score to candidate observations with the\n",
    "score representing the potential benefit the observation will add to the\n",
    "optimization process. Ideally, acquisition functions are cheap to evaluate and\n",
    "should address the _exploitation-exploration tradeoff_. Within this tradeoff,\n",
    "exploitation refers to sampling where the objective function value is expected\n",
    "to be large while exploration refers to sampling where we are more uncertain\n",
    "about the value of the objective function. Another important property of an\n",
    "acquisition function is that it will vanish at pre-existing observations where\n",
    "the objective function value is already known (no sense in sampling twice).\n",
    "\n",
    "The optimization policy should be designed to maximize the acquisition function\n",
    "such that we select the candidate observation with the most potential to benefit\n",
    "the optimization process. There are two general cases of acquisition function:\n",
    "myopic and look-ahead. Myopic acquisition functions only consider the immediate\n",
    "utility while look-ahead acquisition functions will consider longer-term utility\n",
    "(see the notebook on decision theory for more information).\n",
    "\n",
    "Finally, the policy that uses a particular acquisition function can be\n",
    "evaluated using **instant (simple) regret**. Instant regret measures the\n",
    "distance between the current and optimal locations whereas cumulative regret\n",
    "measures the cumulative distance between historical locations and the optimum\n",
    "location."
   ]
  },
  {
   "cell_type": "markdown",
   "id": "20c01ee4",
   "metadata": {},
   "source": [
    "## References"
   ]
  },
  {
   "cell_type": "markdown",
   "id": "ce5d4e87",
   "metadata": {},
   "source": [
    "For full-reference details, the BibTeX entries can be found in the\n",
    "`bibliography.bib` file.\n",
    "\n",
    " * _Bayesian Optimization_ by Roman Garnett (2023)\n",
    " * _Bayesian Optimization: Theory and Practice Using Python_ by Peng Liu (2023)\n",
    " * _Gaussian Processes for Machine Learning_ by Rasmussen & Williams (2019)"
   ]
  }
 ],
 "metadata": {
  "kernelspec": {
   "display_name": "Python 3",
   "language": "python",
   "name": "python3"
  },
  "language_info": {
   "codemirror_mode": {
    "name": "ipython",
    "version": 3
   },
   "file_extension": ".py",
   "mimetype": "text/x-python",
   "name": "python",
   "nbconvert_exporter": "python",
   "pygments_lexer": "ipython3",
   "version": "3.13.5"
  }
 },
 "nbformat": 4,
 "nbformat_minor": 5
}
