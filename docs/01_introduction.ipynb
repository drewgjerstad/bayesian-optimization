{
 "cells": [
  {
   "cell_type": "markdown",
   "id": "37aee39e",
   "metadata": {},
   "source": [
    "# Introduction to Bayesian Optimization\n",
    "**Drew Gjerstad**  \n",
    "\n",
    "_Bayesian Optimization Series_  \n",
    "[github.com/drewgjerstad/bayesian-optimization](https://github.com/drewgjerstad/bayesian-optimization)"
   ]
  },
  {
   "cell_type": "code",
   "execution_count": 1,
   "id": "22119228",
   "metadata": {},
   "outputs": [],
   "source": [
    "import numpy as np\n",
    "import scipy as sp\n",
    "import matplotlib.pyplot as plt"
   ]
  },
  {
   "cell_type": "markdown",
   "id": "7e80d8a2",
   "metadata": {},
   "source": [
    "## Contents\n",
    " * [Introduction](#introduction)\n",
    " * [Motivation](#motivation)\n",
    "     - [Theoretical Motivation](#theoretical-motivation)\n",
    "     - [Applications](#applications)\n",
    " * [Optimization Foundations](#optimization-foundations)\n",
    " * [Bayesian Foundations](#bayesian-foundations)\n",
    " * [The Bayesian Approach](#the-bayesian-approach)\n",
    " * [Bayesian Optimization Workflow](#bayesian-optimization-workflow)\n",
    " * [References](#references)"
   ]
  },
  {
   "cell_type": "markdown",
   "id": "f1b59344",
   "metadata": {},
   "source": [
    "## Introduction\n",
    "**Bayesian optimization** refers to an optimization approach that uses Bayesian\n",
    "inference to guide the optimizer to make \"better\" decisions based on\n",
    "_uncertainty_. One attractive feature of this approach is its _unparalleled_\n",
    "sample efficiency (more on this later). Additionally, _uncertainty_ is inherent\n",
    "in all optimization decisions but we can use the Bayesian approach to tackle it,\n",
    "and often overcome it, in a strategic manner.\n",
    "\n",
    "The goal of this notebook is to introduce you to Bayesian optimization from a\n",
    "high-level perspective as well as introduce you to the \"Bayesian optimization\n",
    "workflow\" and the components involved. Additional notebooks that cover these\n",
    "topics in more depth can be found within the\n",
    "[`bayesian-optimization`](https://github.com/drewgjerstad/bayesian-optimization)\n",
    "repo. We begin with the theoretical motivation for Bayesian optimization and an\n",
    "overview of its applications."
   ]
  },
  {
   "cell_type": "markdown",
   "id": "dc43edba",
   "metadata": {},
   "source": [
    "## Motivation"
   ]
  },
  {
   "cell_type": "markdown",
   "id": "ce9d672e",
   "metadata": {},
   "source": [
    "### Theoretical Motivation\n",
    "Before we explore the applications of Bayesian optimization, we must consider\n",
    "the theoretical motivation for such an approach. The theoretical motivation\n",
    "typically stems from the form or type of _objective_ (the \"function\" we are\n",
    "aiming to optimize).\n",
    "\n",
    " * **Black-box objective functions** are functions that we can only interact\n",
    "   with via its inputs and outputs meaning typical methods do not work. However,\n",
    "   we can usually approximate such an objective and use Bayesian optimization to\n",
    "   manage the uncertainty.\n",
    "\n",
    " * **Expensive-to-evaluate objective functions** are functions that require\n",
    "   significant computation effort to obtain their output. However, once again,\n",
    "   we can approximate and model these efficiently using the Bayesian approach.\n",
    "\n",
    " * More generally, this approach is very useful when the objectives lack\n",
    "   analytical evaluation (or, if analytical evaluation is expensive).\n",
    "\n",
    " * In some spaces such as discrete or combinatorial, the objectives may not have\n",
    "   efficient gradients (if they exist) and so classical gradient-based\n",
    "   optimization methods are incompatible.\n",
    "\n",
    "There are additional supporting points to the theoretical motivation for\n",
    "Bayesian optimization but these seem to be the most common, especially with\n",
    "regard to the form and properties of the objective."
   ]
  },
  {
   "cell_type": "markdown",
   "id": "52388cfa",
   "metadata": {},
   "source": [
    "### Applications\n",
    "The application potential of Bayesian optimization can be seen across several\n",
    "critical domains, especially those attempting to accelerate finding solutions to\n",
    "real-world scientific and engineering problems. Some of these applications\n",
    "include:\n",
    " * Drug Discovery\n",
    " * Molecule/Protein Discovery\n",
    " * Materials Design\n",
    " * AutoML (i.e., hyperparameter tuning)\n",
    " * Engineering Decisions\n",
    " * Many more...\n",
    "\n",
    "The images and diagrams below should help you form an idea of how Bayesian\n",
    "optimization fits into some of these applications. Note that this is by no means\n",
    "an exhaustive list nor should you worry too much about some of the contextual\n",
    "details of the specific applications shown. This is merely to provide real-world\n",
    "motivation for this optimization approach."
   ]
  },
  {
   "cell_type": "markdown",
   "id": "d09d2cd6",
   "metadata": {},
   "source": [
    "#### Application: Drug Discovery\n",
    "The image below provides an example of optimization applied to a chemical\n",
    "process problem (common in drug discovery). Don't worry about the details\n",
    "regarding the formulation of the problem itself but rather consider the fact\n",
    "that running chemical synthesis experiments require two things: _time_ and\n",
    "_money_. Therefore, scientists want to accelerate finding optimal solutions or\n",
    "in this case, optimal chemical processes/reactions.\n",
    "\n",
    "In the bottom right of the image, four common (classical) approaches to this\n",
    "optimization problem are shown. However, these approaches are likely expensive\n",
    "(as mentioned previously). Therefore, the alternative approach, Bayesian\n",
    "optimization, is shown in the bottom left of the image. Bayesian optimization\n",
    "can use data from previous experiments to locate points (samples) that may\n",
    "optimize the unknown objective, while accounting for uncertainty in the model.\n",
    "These points will typically then be used to plan the next experiments since they\n",
    "represent samples of high utility. In this context, high utility means the point\n",
    "could be useful in optimizing the reaction parameter.\n",
    "\n",
    "<img src=\"graphics/01-introduction/applications/drug-discovery.png\"\n",
    "     alt=\"Drug Discovery Application\" width=\"600\"/>\n",
    "\n",
    "Figure from _Bayesian optimization as a tool for chemical synthesis_ by Shields\n",
    "et al. (2021)"
   ]
  },
  {
   "cell_type": "markdown",
   "id": "ea94069a",
   "metadata": {},
   "source": [
    "#### Application: Molecule/Protein Discovery\n",
    "In the field of molecule and protein design, there are similar considerations to\n",
    "the ones in the previous application: experiments are costly. In the diagram\n",
    "below, the integration of Bayesian optimization with experimentation is shown.\n",
    "Scientists typically synthesize and test several different formulations to build\n",
    "a dataset. This dataset is used to help model the unknown objective and can be\n",
    "used to suggest new formulations. As new formulations are synthesized and\n",
    "tested, they are added to the dataset so as to inform the model and optimizer of\n",
    "formulations to suggest next.\n",
    "\n",
    "<img src=\"graphics/01-introduction/applications/molecule-protein-discovery.png\"\n",
    "     alt=\"Molecule/Protein Discovery Application\" width=600/>\n",
    "\n",
    "Figure from _Sequential closed-loop Bayesian optimization as a guide for_\n",
    "_organic molecular metallophotocatalyst formulation discovery_ by Li et al.\n",
    "(2024)"
   ]
  },
  {
   "cell_type": "markdown",
   "id": "7c39be15",
   "metadata": {},
   "source": [
    "#### Application: Materials Discovery\n",
    "The diagram below is very similar to the one for molecule/protein discovery\n",
    "except now it is demonstrating some additional specifics for materials design\n",
    "and discovery. Once again, the initial dataset is used to model the likely\n",
    "unknown objective to inform design exploration and then the results from the\n",
    "design exploration are used to augment the dataset. It appears that in this\n",
    "loop, the researchers are also using the experiments to help calibrate a\n",
    "simulation of designs, another application of Bayesian optimization.\n",
    "\n",
    "<img src=\"graphics/01-introduction/applications/materials-design.jpg\"\n",
    "     alt=\"Materials Discovery Application\" width=600/>\n",
    "\n",
    "Figure from _Bayesian optimization for Materials Design with Mixed_\n",
    "_Quantitative and Qualitative Variables_ by Zhang et al. (2020)"
   ]
  },
  {
   "cell_type": "markdown",
   "id": "2a95a5ae",
   "metadata": {},
   "source": [
    "#### Application: AutoML\n",
    "AutoML is the process of automating the machine learning workflow and often\n",
    "includes tuning models' hyperparameters. Bayesian optimization can be used to\n",
    "tune hyperparameters more efficiently by identifying the next hyperparameters to\n",
    "test based on the current model and its quantified uncertainty. The workflow\n",
    "below shows how hyperparameters for a neural network are tuned using Bayesian\n",
    "optimization (using a Gaussian process as a surrogate model).\n",
    "\n",
    "<img src=\"graphics/01-introduction/applications/automl.png\"\n",
    "     alt=\"AutoML Application\" width=600/>\n",
    "\n",
    "Figure from _Achieve Bayesian optimization for tuning hyperparameters_ by Edward\n",
    "Ortiz on _Medium_ (2020)"
   ]
  },
  {
   "cell_type": "markdown",
   "id": "a7eb7d77",
   "metadata": {},
   "source": [
    "#### Application: Engineering Decisions\n",
    "Bayesian optimization is also useful for making engineering decisions such as\n",
    "design choices to optimize hardware performance. In the diagram below, Bayesian\n",
    "optimization is being used to calibrate a particle accelerator in a similar\n",
    "manner as some of the previous examples. The \"operator\" inputs the target beam\n",
    "parameters while a camera inputs the observed beam parameters. Then, Bayesian\n",
    "optimization determines the changes (next set of beam parameters) to hopefully\n",
    "improve the calibration of the particle accelerator.\n",
    "\n",
    "<img src=\"graphics/01-introduction/applications/engineering-decisions.png\"\n",
    "     alt=\"Engineering Decisions Application\" width=600/>\n",
    "\n",
    "Figure from _Reinforcement learning-trained optimizers and Bayesian_\n",
    "_optimization for online particle accelerator tuning_ by Kaiser et al. (2024)"
   ]
  },
  {
   "cell_type": "markdown",
   "id": "437fac8e",
   "metadata": {},
   "source": [
    "## Optimization Foundations"
   ]
  },
  {
   "cell_type": "markdown",
   "id": "5fd257a1",
   "metadata": {},
   "source": [
    "In this section, we will examine the foundations of optimization to understand\n",
    "the ideas and methods that Bayesian optimization builds on. This will include\n",
    "formalizing optimization, objective functions, observation models, some common\n",
    "optimization policies, termination policies, and a diagram of the optimization\n",
    "process. For a more thorough examination of numerical optimization, see Nocedal\n",
    "and Wright's _Numerical Optimization_ (Springer Series in Operations Research)."
   ]
  },
  {
   "cell_type": "markdown",
   "id": "0bff9434",
   "metadata": {},
   "source": [
    "**Optimization** is a process and field of study that aims to efficiently locate\n",
    "the optimal objective value and/or its location from the search domain and its\n",
    "corresponding objective values."
   ]
  },
  {
   "cell_type": "markdown",
   "id": "64bf5b86",
   "metadata": {},
   "source": [
    "### Formalization of Optimization"
   ]
  },
  {
   "cell_type": "markdown",
   "id": "039b4d31",
   "metadata": {},
   "source": [
    "Let's first formalize a typical optimization problem. This formulation is a\n",
    "simple and flexible one for global optimization and is not inherently Bayesian.\n",
    "Additionally, it is also formulating a _continuous_ optimization problem but\n",
    "there exists other \"types\" of optimization other than just continuous.\n",
    "\n",
    "\\begin{equation*}\n",
    "    x^* \\in \\argmax_{x \\in \\mathcal{X}} f(x)\n",
    "    \\hspace{36pt}\n",
    "    f^* = \\max_{x \\in \\mathcal{X}} f(x) = f(x^*)\n",
    "\\end{equation*}\n",
    "where $f:\\mathcal{X}\\rightarrow\\mathbb{R}$ is a real-valued _objective function_\n",
    "on some domain $\\mathcal{X}$, $x^*$ is the point that obtains the global maximum\n",
    "value $f^*$. Note that the $\\max$ versus $\\min$ is arbitrary and depends on the\n",
    "specific problem.\n",
    "\n",
    "_Black-box optimization_ arises from the fact that we do not need to have an\n",
    "explicit objective function $f$ but rather only some information about the\n",
    "objective at identified points.\n",
    "\n",
    "The code below creates a plot showing a objective function and points showing\n",
    "the _optima_. Optima are the points that either maximize or minimize the\n",
    "objective function.\n",
    "\n",
    "\\begin{equation*}\n",
    "    f(x) = 10\\sin(0.2x)\\cos(0.1x) + \\sin(0.5x) + 0.05x\n",
    "\\end{equation*}"
   ]
  },
  {
   "cell_type": "code",
   "execution_count": null,
   "id": "a5a57461",
   "metadata": {},
   "outputs": [
    {
     "data": {
      "image/png": "[encoded data removed]",
      "text/plain": [
       "<Figure size 800x400 with 1 Axes>"
      ]
     },
     "metadata": {},
     "output_type": "display_data"
    }
   ],
   "source": [
    "# Plot Objective Function with Optima Labeled\n",
    "\n",
    "def objective(x:np.array)->np.array:\n",
    "    return (np.sin(0.2 * x) * np.cos(0.1 * x) * 10 +\n",
    "            np.sin(0.5 * x) + 0.05 * x)\n",
    "\n",
    "x = np.linspace(0, 50, 1000)\n",
    "y = objective(x)\n",
    "\n",
    "plt.figure(figsize=(8, 4))\n",
    "plt.plot(x, y, label=\"Objective Function\", c=\"gray\", linestyle=\"--\")\n",
    "plt.scatter(x[np.argmax(y)], np.max(y), label=\"Global Max\", c=\"r\")\n",
    "plt.scatter(x[np.argmin(y)], np.min(y), label=\"Global Min\", c=\"r\", marker=\"D\")\n",
    "plt.scatter(x[np.argmax(y[:200])], np.max(y[:200]), label=\"Local Max\",\n",
    "            c=\"g\", marker=\"o\")\n",
    "plt.scatter(x[np.argmax(y[800:]) + 800], np.max(y[800:]), label=\"Local Max\",\n",
    "            c=\"g\", marker=\"o\")\n",
    "plt.scatter(x[np.argmin(y[200:400]) + 200], np.min(y[200:400]),\n",
    "            label=\"Local Min\", c=\"b\", marker=\"D\")\n",
    "plt.legend()\n",
    "plt.show()"
   ]
  },
  {
   "cell_type": "markdown",
   "id": "982cc501",
   "metadata": {},
   "source": [
    "### Objective Functions"
   ]
  },
  {
   "cell_type": "markdown",
   "id": "019a06dc",
   "metadata": {},
   "source": [
    "### Observation Models"
   ]
  },
  {
   "cell_type": "markdown",
   "id": "edf63253",
   "metadata": {},
   "source": [
    "### Optimization Policies"
   ]
  },
  {
   "cell_type": "markdown",
   "id": "3fce34c4",
   "metadata": {},
   "source": [
    "### Termination Policies"
   ]
  },
  {
   "cell_type": "markdown",
   "id": "d8d86157",
   "metadata": {},
   "source": [
    "### Diagram of the Optimization Process"
   ]
  },
  {
   "cell_type": "markdown",
   "id": "00978efa",
   "metadata": {},
   "source": [
    "## Bayesian Foundations"
   ]
  },
  {
   "cell_type": "markdown",
   "id": "88018602",
   "metadata": {},
   "source": [
    "## The Bayesian Approach"
   ]
  },
  {
   "cell_type": "markdown",
   "id": "d5da8380",
   "metadata": {},
   "source": [
    "## Bayesian Optimization Workflow"
   ]
  },
  {
   "cell_type": "markdown",
   "id": "da3ca8a1",
   "metadata": {},
   "source": [
    "### Surrogate Models"
   ]
  },
  {
   "cell_type": "markdown",
   "id": "8410fb45",
   "metadata": {},
   "source": [
    "### Acquisition Functions"
   ]
  },
  {
   "cell_type": "markdown",
   "id": "83a72e44",
   "metadata": {},
   "source": [
    "### Acquisition Function Optimizers"
   ]
  },
  {
   "cell_type": "markdown",
   "id": "20c01ee4",
   "metadata": {},
   "source": [
    "## References"
   ]
  }
 ],
 "metadata": {
  "kernelspec": {
   "display_name": "Python 3",
   "language": "python",
   "name": "python3"
  },
  "language_info": {
   "codemirror_mode": {
    "name": "ipython",
    "version": 3
   },
   "file_extension": ".py",
   "mimetype": "text/x-python",
   "name": "python",
   "nbconvert_exporter": "python",
   "pygments_lexer": "ipython3",
   "version": "3.13.5"
  }
 },
 "nbformat": 4,
 "nbformat_minor": 5
}
