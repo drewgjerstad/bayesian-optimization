{
 "cells": [
  {
   "cell_type": "markdown",
   "id": "f5455c03",
   "metadata": {},
   "source": [
    "# Introduction to Bayesian Optimization\n",
    "_Drew Gjerstad_"
   ]
  },
  {
   "cell_type": "code",
   "execution_count": null,
   "id": "4d2b580c",
   "metadata": {},
   "outputs": [],
   "source": []
  }
 ],
 "metadata": {
  "kernelspec": {
   "display_name": "Python 3",
   "language": "python",
   "name": "python3"
  },
  "language_info": {
   "name": "python",
   "version": "3.11.11"
  }
 },
 "nbformat": 4,
 "nbformat_minor": 5
}
