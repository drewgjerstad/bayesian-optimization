{
 "cells": [
  {
   "cell_type": "markdown",
   "id": "a0e57114",
   "metadata": {},
   "source": [
    "# BoTorch Tutorials\n",
    "\n",
    "_Drew Gjerstad_\n",
    "\n",
    "**Includes content from BoTorch's [documentation](https://botorch.org/docs/) and\n",
    "[tutorials](https://botorch.org/docs/tutorials/).**"
   ]
  },
  {
   "cell_type": "markdown",
   "id": "23bffbc7",
   "metadata": {},
   "source": [
    "This notebook contains tutorials showing how to use BoTorch effectively. The\n",
    "tutorials in this notebook are list (and linked) below, organized in the same\n",
    "manner as on BoTorch's site. Note that while the links work in Visual Studio\n",
    "Code, there have been issues reported in GitHub Preview and popular viewing\n",
    "tools like `nbviewer`."
   ]
  },
  {
   "cell_type": "markdown",
   "id": "94f66788",
   "metadata": {},
   "source": [
    "## Contents\n",
    "\n",
    "[**Full Optimization Loops**](#full-optimization-loops)\n",
    "\n",
    " * [High-Dimensional Bayesian Optimization with SAASBO](#high-dimensional-bayesian-optimization-with-saasbo)\n",
    "\n",
    "[**Bite-Sized Tutorials**](#bite-sized-tutorials)\n",
    "\n",
    " * [Implementing Custom Acquisition Functions](#implementing-custom-acquisition-functions)\n",
    "\n",
    "[**Advanced Usage**](#advanced-usage)"
   ]
  },
  {
   "cell_type": "markdown",
   "id": "390b87b5",
   "metadata": {},
   "source": [
    "## Full Optimization Loops\n",
    "The tutorials in this section are focused on defining entire optimization loops\n",
    "using BoTorch."
   ]
  },
  {
   "cell_type": "markdown",
   "id": "757920bf",
   "metadata": {},
   "source": [
    "### High-Dimensional Bayesian Optimization with SAASBO\n",
    "[_Link to Tutorial on BoTorch_](https://botorch.org/docs/tutorials/saasbo/)\n",
    "\n",
    "In this tutorial, we review how to implement **Sparse Axis-Aligned Subspace**\n",
    "**Bayesian Optimization**\n",
    "([SAASBO](https://proceedings.mlr.press/v161/eriksson21a.html)) for\n",
    "high-dimensional Bayesian optimization. The SAASBO method avoids the\n",
    "over-fitting in high-dimensional spaces by placing strong priors on the inverse\n",
    "lengthscales. In particular, SAASBO makes use of a hierarchical sparsity prior\n",
    "incorporating a global shrinkage parameter $\\tau\\sim\\mathcal{HC}(\\beta)$ and\n",
    "inverse lengthscales $\\rho_{d}\\sim\\mathcal{HC}(\\tau)$ for $d=1,\\dots,D$ where\n",
    "$\\mathcal{HC}$ denotes the half-Cauchy distribution. While the half-Cauchy\n",
    "distribution favors values near zero, they also have heavy tails that help the\n",
    "inverse lengthscales for the most important parameters to avoid zero.\n",
    "\n",
    "The tutorial's author notes that for performing inference in the SAAS model we\n",
    "will use Hamiltonian Monte Carlo (HMC) as it was found to outperform MAP\n",
    "inference. In addition, SAASBO performs well for problems with hundreds of\n",
    "dimensions but since we are relying on HMC for inference, SAASBO's overhead\n",
    "scales cubically with the number of samples. Thus, depending on the problem,\n",
    "using more than a few hundred samples may be infeasible due to SAASBO's design\n",
    "being advantageous for problems with limited evaluation budget."
   ]
  },
  {
   "cell_type": "code",
   "execution_count": 4,
   "id": "8138c791",
   "metadata": {},
   "outputs": [],
   "source": [
    "# Load Dependencies\n",
    "import sys\n",
    "import os\n",
    "\n",
    "import torch\n",
    "from torch.quasirandom import SobolEngine\n",
    "\n",
    "from botorch import fit_fully_bayesian_model_nuts\n",
    "from botorch.acquisition.logei import qLogExpectedImprovement\n",
    "from botorch.models.fully_bayesian import SaasFullyBayesianSingleTaskGP\n",
    "from botorch.models.transforms import Standardize\n",
    "from botorch.optim import optimize_acqf\n",
    "from botorch.test_functions import Branin\n",
    "\n",
    "SMOKE_TEST = os.environ.get(\"SMOKE_TEST\")"
   ]
  },
  {
   "cell_type": "code",
   "execution_count": 5,
   "id": "1dfa9c1e",
   "metadata": {},
   "outputs": [],
   "source": [
    "# Define Tensor Keyword Arguments\n",
    "tkwargs = {\n",
    "    \"device\": torch.device(\"cuda\" if torch.cuda.is_available() else \"cpu\"),\n",
    "    \"dtype\": torch.double\n",
    "}"
   ]
  },
  {
   "cell_type": "markdown",
   "id": "b084046f",
   "metadata": {},
   "source": [
    "To avoid increased overhead and decrease the time it takes to fit the SAAS model\n",
    "by lowering `WARMUP_STEPS` and `NUM_SAMPLES`. The author recommends using 512\n",
    "warmup steps and 256 samples when possible and avoid using less than 256 warmup\n",
    "steps and 128 samples. The default practice is to only keep each 16th sample\n",
    "meaning for 256 samples results in 32 hyperparameter samples (this is controlled\n",
    "via the `THINNING` variable below).\n",
    "\n",
    "To keep this tutorial efficient, the author uses 256 warmup steps and 128\n",
    "samples."
   ]
  },
  {
   "cell_type": "code",
   "execution_count": 6,
   "id": "4800e87c",
   "metadata": {},
   "outputs": [],
   "source": [
    "WARMUP_STEPS = 256 if not SMOKE_TEST else 32\n",
    "NUM_SAMPLES = 128 if not SMOKE_TEST else 16\n",
    "THINNING = 16"
   ]
  },
  {
   "cell_type": "markdown",
   "id": "871d6d40",
   "metadata": {},
   "source": [
    "Next, we start by reviewing how to fit a simple model. To do this, we generate\n",
    "a simple function that is only dependent on the first parameter to demonstrate\n",
    "that the SAAS model sets all other lengthscales to large values."
   ]
  },
  {
   "cell_type": "code",
   "execution_count": 7,
   "id": "731c81ac",
   "metadata": {},
   "outputs": [],
   "source": [
    "# Generate Simple Function\n",
    "train_X = torch.rand(10, 4, **tkwargs)\n",
    "test_X = torch.rand(5, 4, **tkwargs)\n",
    "train_Y = torch.sin(train_X[:, :1])\n",
    "test_Y = torch.sin(test_X[:, :1])"
   ]
  },
  {
   "cell_type": "markdown",
   "id": "02c64468",
   "metadata": {},
   "source": [
    "Typically, we will infer the _unknown_ noise variance in the data. However, we\n",
    "can specify the known noise variant (`train_Yvar`) for each observation. This is\n",
    "particularly useful if we know that the problem is noise-free and we can set the\n",
    "noise variant to a small value such as `1e-6`. Then, we can construct a model\n",
    "for this case as shown in the next code cell."
   ]
  },
  {
   "cell_type": "code",
   "execution_count": 9,
   "id": "7c23f980",
   "metadata": {},
   "outputs": [],
   "source": [
    "# Construct GP Model (known noise variant)\n",
    "gp = SaasFullyBayesianSingleTaskGP(train_X=train_X,\n",
    "                                   train_Y=train_Y,\n",
    "                                   train_Yvar=torch.full_like(train_Y, 1e-6))"
   ]
  },
  {
   "cell_type": "markdown",
   "id": "d554a729",
   "metadata": {},
   "source": [
    "In the next code cell, we define the model for this tutorial and example."
   ]
  },
  {
   "cell_type": "code",
   "execution_count": 10,
   "id": "d07db7d8",
   "metadata": {},
   "outputs": [],
   "source": [
    "# Construct GP Model\n",
    "gp = SaasFullyBayesianSingleTaskGP(train_X=train_X,\n",
    "                                   train_Y=train_Y,\n",
    "                                   outcome_transform=Standardize(m=1))\n",
    "\n",
    "fit_fully_bayesian_model_nuts(\n",
    "    gp,\n",
    "    warmup_steps=WARMUP_STEPS,\n",
    "    num_samples=NUM_SAMPLES,\n",
    "    thinning=THINNING,\n",
    "    disable_progbar=True,\n",
    ")\n",
    "\n",
    "with torch.no_grad():\n",
    "    posterior = gp.posterior(test_X)"
   ]
  },
  {
   "cell_type": "markdown",
   "id": "d78adcf2",
   "metadata": {},
   "source": [
    "To show that the first feature has the smallest lengthscale, we can compute the\n",
    "median lengthscales over the MCMC dimensions."
   ]
  },
  {
   "cell_type": "code",
   "execution_count": 11,
   "id": "ef6ea988",
   "metadata": {},
   "outputs": [
    {
     "name": "stdout",
     "output_type": "stream",
     "text": [
      "tensor([ 2.3037, 12.0275, 38.1321, 18.8247], dtype=torch.float64)\n"
     ]
    }
   ],
   "source": [
    "print(gp.median_lengthscale.detach())"
   ]
  },
  {
   "cell_type": "markdown",
   "id": "10fbe560",
   "metadata": {},
   "source": [
    "Now that the model is trained, we can use it to make predictions. In the cell\n",
    "below, we make predictions with the SAAS model in the same fashion as other\n",
    "posteriors in BoTorch: computing the mean and variance for test points. Note\n",
    "that the mean and posterior tensors have an extra batch dimension at -3\n",
    "corresponding to the number of MCMC samples (8 in this tutorial)."
   ]
  },
  {
   "cell_type": "code",
   "execution_count": 12,
   "id": "92c1f55a",
   "metadata": {},
   "outputs": [
    {
     "name": "stdout",
     "output_type": "stream",
     "text": [
      "torch.Size([8, 5, 1])\n",
      "torch.Size([8, 5, 1])\n"
     ]
    }
   ],
   "source": [
    "# Print Dimensions of Posterior Mean and Variance\n",
    "print(posterior.mean.shape)\n",
    "print(posterior.variance.shape)"
   ]
  },
  {
   "cell_type": "markdown",
   "id": "54e77bfd",
   "metadata": {},
   "source": [
    "Additionally, BoTorch also provides methods to easily compute different\n",
    "statistics across the MCMC samples, as shown below."
   ]
  },
  {
   "cell_type": "code",
   "execution_count": 15,
   "id": "9204ff81",
   "metadata": {},
   "outputs": [
    {
     "name": "stdout",
     "output_type": "stream",
     "text": [
      "Ground Truth:   tensor([0.2099, 0.5055, 0.2166, 0.7694, 0.1876], dtype=torch.float64)\n",
      "Mixture Mean:   tensor([0.2068, 0.5038, 0.2135, 0.7700, 0.1871], dtype=torch.float64)\n"
     ]
    }
   ],
   "source": [
    "# Compute Statistics over MCMC Samples\n",
    "mixture_mean = posterior.mixture_mean\n",
    "mixture_variance = posterior.mixture_variance\n",
    "mixture_quantile = posterior.quantile(torch.tensor(0.95))\n",
    "\n",
    "print(f\"Ground Truth:   {test_Y.squeeze(-1)}\")\n",
    "print(f\"Mixture Mean:   {mixture_mean.squeeze(-1)}\")"
   ]
  },
  {
   "cell_type": "markdown",
   "id": "a1093b57",
   "metadata": {},
   "source": [
    "Since we have an understanding of how to implement SAASBO using BoTorch, we can\n",
    "apply the method to optimize Branin embedded in a 30-dimensional space.\n",
    "Specifically, we embed the standard two-dimensional Branin problem in a\n",
    "30-dimensional space with dimensions 0 and 1 corresponding to the true\n",
    "dimensions. This exercise demonstrates that SAASBO can identify the critical\n",
    "dimensions and optimize this function efficiently. Note that we will work with\n",
    "the domain $[0,1]^d$ and unnormalize the inputs to true domain of Branin before\n",
    "we evaluate the function."
   ]
  },
  {
   "cell_type": "code",
   "execution_count": 19,
   "id": "2b02dd21",
   "metadata": {},
   "outputs": [],
   "source": [
    "# Prepare Branin Problem\n",
    "branin = Branin().to(**tkwargs)\n",
    "\n",
    "def branin_emb(x):\n",
    "    \"\"\"x is assumed to be in [0, 1]^d\"\"\"\n",
    "    lb, ub = branin.bounds\n",
    "    return branin(lb + (ub - lb) * x[..., :2])"
   ]
  },
  {
   "cell_type": "markdown",
   "id": "bd600c08",
   "metadata": {},
   "source": [
    "In the next cell, we define the dimensions and evaluation budget."
   ]
  },
  {
   "cell_type": "code",
   "execution_count": 17,
   "id": "73edad4e",
   "metadata": {},
   "outputs": [
    {
     "name": "stdout",
     "output_type": "stream",
     "text": [
      "Using a total of 50 function evaluations\n"
     ]
    }
   ],
   "source": [
    "# Define Problem Dimensions\n",
    "DIM = 30 if not SMOKE_TEST else 2\n",
    "\n",
    "# Define Evaluation Budget\n",
    "N_INIT = 10\n",
    "N_ITERATIONS = 8 if not SMOKE_TEST else 1\n",
    "BATCH_SIZE = 5 if not SMOKE_TEST else 1\n",
    "print(f\"Using a total of {N_INIT + BATCH_SIZE * N_ITERATIONS} function evaluations\")"
   ]
  },
  {
   "cell_type": "markdown",
   "id": "2bd845da",
   "metadata": {},
   "source": [
    "We can now run the optimization with 10 initial Sobol (a type of sampling)\n",
    "points and then 8 iterations of Bayesian optimization using the batch size of 5\n",
    "defined above, resulting in a total of 50 function evaluations. Note that we\n",
    "will flip the sign of the function values before fitting the SAAS model since\n",
    "our focus is minimizing Branin. This is due to the fact that in BoTorch, the\n",
    "acquisition functions assume maximization."
   ]
  },
  {
   "cell_type": "code",
   "execution_count": 20,
   "id": "d4b40009",
   "metadata": {},
   "outputs": [
    {
     "name": "stdout",
     "output_type": "stream",
     "text": [
      "Best initial point: 5.322\n",
      "3) New Best: 1.987 @[1.000, 0.214]\n",
      "5) New Best: 0.440 @[0.120, 0.816]\n",
      "6) New Best: 0.438 @[0.956, 0.167]\n",
      "8) New Best: 0.405 @[0.121, 0.822]\n"
     ]
    }
   ],
   "source": [
    "X = SobolEngine(dimension=DIM, scramble=True, seed=0).draw(N_INIT).to(**tkwargs)\n",
    "Y = branin_emb(X).unsqueeze(-1)\n",
    "print(f\"Best initial point: {Y.min().item():.3f}\")\n",
    "\n",
    "for i in range(N_ITERATIONS):\n",
    "    train_Y = -1 * Y  # Flip sign to minimize the function\n",
    "    gp = SaasFullyBayesianSingleTaskGP(\n",
    "        train_X=X,\n",
    "        train_Y=train_Y,\n",
    "        train_Yvar=torch.full_like(train_Y, 1e-6),\n",
    "        outcome_transform=Standardize(m=1),\n",
    "    )\n",
    "    fit_fully_bayesian_model_nuts(\n",
    "        gp,\n",
    "        warmup_steps=WARMUP_STEPS,\n",
    "        num_samples=NUM_SAMPLES,\n",
    "        thinning=THINNING,\n",
    "        disable_progbar=True,\n",
    "    )\n",
    "\n",
    "    # Use the Batch Log Expected Improvement (EI) Acquisition Function\n",
    "    EI = qLogExpectedImprovement(model=gp, best_f=train_Y.max())\n",
    "    candidates, acq_values = optimize_acqf(\n",
    "        EI,\n",
    "        bounds=torch.cat((torch.zeros(1, DIM), torch.ones(1, DIM))),\n",
    "        q=BATCH_SIZE,\n",
    "        num_restarts=10,\n",
    "        raw_samples=1024,\n",
    "    )\n",
    "\n",
    "    # Get Next Set of Function Evaluations\n",
    "    Y_next = torch.cat([branin_emb(x).unsqueeze(-1) for x in candidates]).unsqueeze(-1)\n",
    "    if Y_next.min() < Y.min():\n",
    "        ind_best = Y_next.argmin()\n",
    "        x0, x1 = candidates[ind_best, :2].tolist()\n",
    "        print(\n",
    "            f\"{i+1}) New Best: {Y_next[ind_best].item():.3f} @\"\n",
    "            f\"[{x0:.3f}, {x1:.3f}]\"\n",
    "        )\n",
    "    X = torch.cat((X, candidates))\n",
    "    Y = torch.cat((Y, Y_next))"
   ]
  },
  {
   "cell_type": "markdown",
   "id": "d9e14c18",
   "metadata": {},
   "source": [
    "From the output above, we were able to get relatively close to the global\n",
    "optimum of $\\approx 0.398$ after only 50 function evaluations. However, it is\n",
    "best practice to plot these results to see how optimization progressed across\n",
    "the iterations in the evaluation budget."
   ]
  },
  {
   "cell_type": "code",
   "execution_count": 21,
   "id": "fb1b5b8e",
   "metadata": {},
   "outputs": [
    {
     "data": {
      "image/png": "[encoded data removed]",
      "text/plain": [
       "<Figure size 800x600 with 1 Axes>"
      ]
     },
     "metadata": {},
     "output_type": "display_data"
    }
   ],
   "source": [
    "# Plot Results\n",
    "import matplotlib.pyplot as plt\n",
    "import numpy as np\n",
    "\n",
    "%matplotlib inline\n",
    "\n",
    "Y_np = Y.cpu().numpy()\n",
    "fig, ax = plt.subplots(figsize=(8, 6))\n",
    "ax.plot(np.minimum.accumulate(Y_np), color=\"b\", label=\"SAASBO\")\n",
    "ax.plot([0, len(Y_np)], [0.398, 0.398], \"--\", c=\"g\", lw=3, label=\"Optimum\")\n",
    "ax.grid(True)\n",
    "ax.set_title(f\"Branin, D = {DIM}\", fontsize=20)\n",
    "ax.set_xlabel(\"Number of Evaluations\", fontsize=20)\n",
    "ax.set_xlim([0, len(Y_np)])\n",
    "ax.set_ylabel(\"Best Value Found\", fontsize=20)\n",
    "ax.set_ylim([0, 8])\n",
    "ax.legend(fontsize=18)\n",
    "plt.show()"
   ]
  },
  {
   "cell_type": "markdown",
   "id": "408e8a03",
   "metadata": {},
   "source": [
    "Below, we will refit the model on 50 points and then predict 50 test points to\n",
    "determine how well the SAAS model predicts out-of-sample points. Additionally,\n",
    "we will also plot these predictions against their true values in addition to a\n",
    "95% confidence interval for each test point."
   ]
  },
  {
   "cell_type": "code",
   "execution_count": 22,
   "id": "684c5c16",
   "metadata": {},
   "outputs": [],
   "source": [
    "# Initialize New Dataset for Training and Testing\n",
    "train_X = SobolEngine(dimension=DIM, scramble=True, seed=0).draw(50).to(**tkwargs)\n",
    "test_X = SobolEngine(dimension=DIM, scramble=True, seed=1).draw(50).to(**tkwargs)\n",
    "train_Y = branin_emb(train_X).unsqueeze(-1)\n",
    "test_Y = branin_emb(test_X).unsqueeze(-1)\n",
    "\n",
    "# Define GP Model\n",
    "gp = SaasFullyBayesianSingleTaskGP(\n",
    "    train_X=train_X,\n",
    "    train_Y=train_Y,\n",
    "    train_Yvar=torch.full_like(train_Y, 1e-6),\n",
    "    outcome_transform=Standardize(m=1),\n",
    ")\n",
    "\n",
    "# Fit Bayesian Model Using No-U-Turn-Sampler (NUTS)\n",
    "fit_fully_bayesian_model_nuts(\n",
    "    gp,\n",
    "    warmup_steps=WARMUP_STEPS,\n",
    "    num_samples=NUM_SAMPLES,\n",
    "    thinning=THINNING,\n",
    "    disable_progbar=True,\n",
    ")"
   ]
  },
  {
   "cell_type": "code",
   "execution_count": 23,
   "id": "6e17c654",
   "metadata": {},
   "outputs": [],
   "source": [
    "# Compute Posterior Distribution\n",
    "with torch.no_grad():\n",
    "    posterior = gp.posterior(test_X)\n",
    "\n",
    "# Compute Quantiles for Points and their CIs\n",
    "median = posterior.quantile(value=torch.tensor([0.5], **tkwargs))\n",
    "q1 = posterior.quantile(value=torch.tensor([0.025], **tkwargs))\n",
    "q2 = posterior.quantile(value=torch.tensor([0.975], **tkwargs))"
   ]
  },
  {
   "cell_type": "code",
   "execution_count": 24,
   "id": "cfbd20b7",
   "metadata": {},
   "outputs": [
    {
     "data": {
      "image/png": "[encoded data removed]",
      "text/plain": [
       "<Figure size 800x600 with 1 Axes>"
      ]
     },
     "metadata": {},
     "output_type": "display_data"
    }
   ],
   "source": [
    "# Plot OOS Prediction Performance\n",
    "fig, ax = plt.subplots(1, 1, figsize=(8, 6))\n",
    "ax.plot([0, 80], [0, 80], \"b--\", lw=2)\n",
    "\n",
    "y_err1, y_err2 = median - q1, q2 - median\n",
    "y_err = torch.cat((y_err1.unsqueeze(0), y_err2.unsqueeze(0)), dim=0).squeeze(-1)\n",
    "markers, caps, bars = ax.errorbar(\n",
    "    test_Y.squeeze(-1).cpu().numpy(),\n",
    "    median.squeeze(-1).cpu().numpy(),\n",
    "    yerr=y_err.cpu().numpy(),\n",
    "    fmt=\".\",\n",
    "    capsize=4,\n",
    "    elinewidth=2.0,\n",
    "    ms=14,\n",
    "    c=\"k\",\n",
    "    ecolor=\"gray\",\n",
    ")\n",
    "ax.set_xlim([0, 80])\n",
    "ax.set_ylim([0, 80])\n",
    "[bar.set_alpha(0.8) for bar in bars]\n",
    "[cap.set_alpha(0.8) for cap in caps]\n",
    "ax.set_xlabel(\"Ground Truth\", fontsize=20)\n",
    "ax.set_ylabel(\"Predicted Value\", fontsize=20)\n",
    "ax.set_aspect(\"equal\")\n",
    "ax.grid(True)"
   ]
  },
  {
   "cell_type": "markdown",
   "id": "c93c3c0b",
   "metadata": {},
   "source": [
    "Finally, let's inspect the lengthscales from our final model since we expect\n",
    "that only the first two parameters (0 and 1) to be identified as important by\n",
    "the SAASBO model. This is confirmed below since the lengthscales for the first\n",
    "two parameters are small while the other lengthscales are large."
   ]
  },
  {
   "cell_type": "code",
   "execution_count": 25,
   "id": "b79e5790",
   "metadata": {},
   "outputs": [
    {
     "name": "stdout",
     "output_type": "stream",
     "text": [
      "Parameter 0) Median Lengthscale = 6.94e-01\n",
      "Parameter 1) Median Lengthscale = 2.14e+00\n",
      "Parameter 4) Median Lengthscale = 3.92e+02\n",
      "Parameter22) Median Lengthscale = 5.11e+02\n",
      "Parameter10) Median Lengthscale = 5.15e+02\n",
      "Parameter13) Median Lengthscale = 5.24e+02\n",
      "Parameter25) Median Lengthscale = 5.32e+02\n",
      "Parameter19) Median Lengthscale = 5.61e+02\n",
      "Parameter14) Median Lengthscale = 5.69e+02\n",
      "Parameter 9) Median Lengthscale = 6.00e+02\n"
     ]
    }
   ],
   "source": [
    "# Inspect Final Model Lengthscales\n",
    "median_lengthscales = gp.median_lengthscale\n",
    "for i in median_lengthscales.argsort()[:10]:\n",
    "    print(f\"Parameter{i:2}) Median Lengthscale = {median_lengthscales[i].item():.2e}\")"
   ]
  },
  {
   "cell_type": "markdown",
   "id": "739f023d",
   "metadata": {},
   "source": [
    "## Bite-Sized Tutorials\n",
    "The tutorials in this section are focused on specific components often\n",
    "encountered when customizing Bayesian optimization loops."
   ]
  },
  {
   "cell_type": "markdown",
   "id": "fbc864c8",
   "metadata": {},
   "source": [
    "### Implementing Custom Acquisition Functions\n",
    "[_Link to Tutorial on BoTorch_](https://botorch.org/docs/tutorials/custom_acquisition/)\n",
    "\n",
    "In this tutorial, we review how to implement a custom acquisition function using\n",
    "BoTorch machinery. Specifically, we will be implementing the **Upper**\n",
    "**Confidence Bound (UCB)** acquisition function. The acquisition function\n",
    "balances the exploration-exploitation tradeoff by assigning a score of\n",
    "$\\mu + \\sqrt{\\beta}*\\sigma$ if the posterior distribution is normal with mean\n",
    "$\\mu$ and variance $\\sigma^2$. BoTorch provides the \"analytic\" version of this\n",
    "acquisition function within the `UpperConfidenceBound` class as well as a Monte\n",
    "carlo version in the `qUpperConfidenceBound` class, allowing for $q$-batches of\n",
    "size greater than 1. We will implement scalarized versions of both of these in\n",
    "the cells below."
   ]
  },
  {
   "cell_type": "markdown",
   "id": "85b7b056",
   "metadata": {},
   "source": [
    "First, we will implement a scalarized version of the q-UCB acquisition function.\n",
    "This is particularly useful if we are in a multi-output setting wherein we want\n",
    "to model the effect of a design on more than one metric. To do this, we will\n",
    "extend the q-UCB acquisition function to accept a multi-output model and then\n",
    "perform q-UCB on a scalarized version of the multiple outputs using a weight\n",
    "vector. Luckily, implementing a custom acquisition function is easy as one only\n",
    "needs to implement the constructor and a `forward` method."
   ]
  },
  {
   "cell_type": "code",
   "execution_count": 26,
   "id": "09dc98d7",
   "metadata": {},
   "outputs": [],
   "source": [
    "# Load Dependencies\n",
    "import math\n",
    "from typing import Optional\n",
    "\n",
    "from botorch.acquisition.monte_carlo import MCAcquisitionFunction\n",
    "from botorch.models.model import Model\n",
    "from botorch.sampling.base import MCSampler\n",
    "from botorch.sampling.normal import SobolQMCNormalSampler\n",
    "from botorch.utils import t_batch_mode_transform\n",
    "from torch import Tensor"
   ]
  },
  {
   "cell_type": "code",
   "execution_count": 27,
   "id": "1e32de76",
   "metadata": {},
   "outputs": [],
   "source": [
    "# Implement Scalarized Version of q-UCB\n",
    "\n",
    "class qScalarizedUpperConfidenceBound(MCAcquisitionFunction):\n",
    "    \"\"\"\n",
    "    This class implements a scalarized version of q-UCB, allowing for\n",
    "    multi-output models.\n",
    "    \"\"\"\n",
    "    def __init__(\n",
    "            self,\n",
    "            model: Model,\n",
    "            beta: Tensor,\n",
    "            weights: Tensor,\n",
    "            sampler: Optional[MCSampler] = None,\n",
    "    ) -> None:\n",
    "        super(MCAcquisitionFunction, self).__init__(model=model)\n",
    "        if sampler is None:\n",
    "            sampler = SobolQMCNormalSampler(sample_shape=torch.Size([512]))\n",
    "            \n",
    "        self.sampler = sampler\n",
    "        self.register_buffer(\"beta\", torch.as_tensor(beta))\n",
    "        self.register_buffer(\"weights\", torch.as_tensor(weights))\n",
    "\n",
    "    @t_batch_mode_transform()\n",
    "    def forward(self, X:Tensor) -> Tensor:\n",
    "        \"\"\"\n",
    "        Evaluate the scalarized qUCB on the candidate set `X`.\n",
    "\n",
    "        Args:\n",
    "            X: A `(b) x q x d`-dim Tensor of `(b)` t-batches with `q` `d`-dim\n",
    "               design points each.\n",
    "\n",
    "        Returns:\n",
    "            Tensor: A `(b)`-dim Tensor of Upper Confidence Bound values at the\n",
    "                given design points `X`.\n",
    "        \"\"\"\n",
    "        posterior = self.model.posterior(X)\n",
    "        samples = self.get_posterior_samples(posterior)  # n x b x q x o\n",
    "        scalarized_samples = samples.matmul(self.weights)  # n x b x q\n",
    "        mean = posterior.mean  # b x q x o\n",
    "        scalarized_mean = mean.matmul(self.weights)  # b x q\n",
    "        ucb_samples = (\n",
    "            scalarized_mean\n",
    "            + math.sqrt(self.beta * math.pi / 2)\n",
    "            * (scalarized_samples - scalarized_mean).abs()\n",
    "        )\n",
    "        return ucb_samples.max(dim=-1)[0].mean(dim=0)"
   ]
  },
  {
   "cell_type": "markdown",
   "id": "123e1ec2",
   "metadata": {},
   "source": [
    "Notice that the definition of `qScalarizedUpperConfidenceBound` is very close to\n",
    "the definition of `qUpperConfidenceBound` and only a few extra lines were needed\n",
    "to accommodate the scalarization of multiple outputs. The\n",
    "`@t_batch_mode_transform` decorator makes sure that `X` has an explicit t-batch\n",
    "dimension. We can achieve the same scalarization effect easily using\n",
    "`ScalarizedPosteriorTransform` (see the end of this tutorial)."
   ]
  },
  {
   "cell_type": "markdown",
   "id": "2ee7a5cb",
   "metadata": {},
   "source": [
    "Before attempting to connect this custom acquisition function to a Bayesian\n",
    "optimization loop, the best practice is to test it first. Thus, we will ensure\n",
    "that it properly evaluates on a compatible multi-output model using a basic\n",
    "multi-output `SingleTaskGP` model trained with synthetic data."
   ]
  },
  {
   "cell_type": "code",
   "execution_count": 28,
   "id": "b82b1c29",
   "metadata": {},
   "outputs": [],
   "source": [
    "# Test Custom Acquisition Function\n",
    "import torch\n",
    "\n",
    "from botorch.fit import fit_gpytorch_mll\n",
    "from botorch.models import SingleTaskGP\n",
    "from botorch.utils import standardize\n",
    "from gpytorch.mlls import ExactMarginalLogLikelihood\n",
    "\n",
    "torch.set_default_dtype(torch.double)\n",
    "\n",
    "# generate synthetic dataset\n",
    "X = torch.rand(20, 2)\n",
    "Y = torch.stack([torch.sin(X[:, 0]), torch.cos(X[:, 1])], -1)\n",
    "\n",
    "# fit multi-output model\n",
    "gp = SingleTaskGP(train_X=X, train_Y=Y)\n",
    "mll = ExactMarginalLogLikelihood(gp.likelihood, gp)\n",
    "fit_gpytorch_mll(mll)\n",
    "\n",
    "# initialize acquisition function\n",
    "qSUCB = qScalarizedUpperConfidenceBound(gp, beta=0.1,\n",
    "                                        weights=torch.tensor([0.1, 0.5]))"
   ]
  },
  {
   "cell_type": "code",
   "execution_count": 29,
   "id": "a5f16fdf",
   "metadata": {},
   "outputs": [
    {
     "data": {
      "text/plain": [
       "tensor([0.5122], grad_fn=<MeanBackward1>)"
      ]
     },
     "execution_count": 29,
     "metadata": {},
     "output_type": "execute_result"
    }
   ],
   "source": [
    "# evaluate on single q-batch with q=3\n",
    "qSUCB(torch.rand(3, 2))"
   ]
  },
  {
   "cell_type": "code",
   "execution_count": 30,
   "id": "81fffbc8",
   "metadata": {},
   "outputs": [
    {
     "data": {
      "text/plain": [
       "tensor([0.5745, 0.5099], grad_fn=<MeanBackward1>)"
      ]
     },
     "execution_count": 30,
     "metadata": {},
     "output_type": "execute_result"
    }
   ],
   "source": [
    "# batch-evaluate on two q-batches with q=3\n",
    "qSUCB(torch.rand(2, 3, 2))"
   ]
  },
  {
   "cell_type": "markdown",
   "id": "20538a89",
   "metadata": {},
   "source": [
    "This acquisition function is able to handle multi-output models and is thus\n",
    "ready to be incorporated with an optimization loop. Since BoTorch makes it easy\n",
    "to swap out acquisition functions, we will not demonstrate that here. Instead,\n",
    "we will look at how to make a scalarized version of analytic UCB (with $q=1$)."
   ]
  },
  {
   "cell_type": "markdown",
   "id": "e94cb96d",
   "metadata": {},
   "source": [
    "This version of analytic UCB will accommodate multi-output models, assuming a\n",
    "multivariate normal posterior and $q=1$. Notice that this new class,\n",
    "`ScalarizedUpperConfidenceBound` subclasses `AnalyticAcquisitionFunction` since\n",
    "we are not implementing a Monte Carlo batch version (as we did previously).\n",
    "Compared to the Monte Carlo version, rather than using weights on the samples,\n",
    "we will directly scalarize the mean vector $\\boldsymbol{\\mu}$ and covariance\n",
    "matrix $\\boldsymbol{\\Sigma}$. Then, we will apply standard UCB on the univariate\n",
    "normal distribution with mean $w^\\intercal\\boldsymbol{\\mu}$ and variance\n",
    "$w^\\intercal\\boldsymbol{\\Sigma}w$. Finally, we will also specify `expected_q=1`\n",
    "in the `@t_batch_mode_transform` decorator to ensure that `X` has `q=1`."
   ]
  },
  {
   "cell_type": "code",
   "execution_count": 31,
   "id": "b9eac400",
   "metadata": {},
   "outputs": [],
   "source": [
    "# Implement Scalarized Version of Analytic UCB\n",
    "from botorch.acquisition import AnalyticAcquisitionFunction\n",
    "\n",
    "class ScalarizedUpperConfidenceBound(AnalyticAcquisitionFunction):\n",
    "    \"\"\"\n",
    "    This class implements a scalarized version of analytic UCB for use with\n",
    "    multi-output models.\n",
    "    \"\"\"\n",
    "    def __init__(\n",
    "        self,\n",
    "        model: Model,\n",
    "        beta: Tensor,\n",
    "        weights: Tensor,\n",
    "        maximize: bool = True,\n",
    "    ) -> None:\n",
    "        super(AnalyticAcquisitionFunction, self).__init__(model)\n",
    "        self.maximize = maximize\n",
    "        self.register_buffer(\"beta\", torch.as_tensor(beta))\n",
    "        self.register_buffer(\"weights\", torch.as_tensor(weights))\n",
    "\n",
    "    @t_batch_mode_transform(expected_q=1)\n",
    "    def forward(self, X:Tensor) -> Tensor:\n",
    "        \"\"\"\n",
    "        Evaluate the Upper Confidence Bound on the candidate set `X` using\n",
    "        scalarization.\n",
    "\n",
    "        Args:\n",
    "            X: A `(b) x d`-dim Tensor of `(b)` t-batches of `d`-dim design\n",
    "                points each.\n",
    "        \n",
    "        Returns:\n",
    "            A `(b)`-dim Tensor of Upper Confidence Bound values at the given\n",
    "                design points `X`.\n",
    "        \"\"\"\n",
    "\n",
    "        self.beta = self.beta.to(X)\n",
    "        batch_shape = X.shape[:-2]\n",
    "        posterior = self.model.posterior(X)\n",
    "        means = posterior.mean.squeeze(dim=-2)  # b x o\n",
    "        scalarized_mean = means.matmul(self.weights)  # b\n",
    "        covs = posterior.mvn.covariance_matrix  # b x o x o\n",
    "        weights = self.weights.view(\n",
    "            1, -1, 1\n",
    "        )  # 1 x o x 1 (assume single batch dimension)\n",
    "        weights = weights.expand(batch_shape + weights.shape[1:])  # b x o x 1\n",
    "        weights_transpose = weights.permute(0, 2, 1)  # b x 1 x o\n",
    "        scalarized_variance = torch.bmm(\n",
    "            weights_transpose, torch.bmm(covs, weights)\n",
    "        ).view(\n",
    "            batch_shape\n",
    "        )  # b\n",
    "        delta = (self.beta.expand_as(scalarized_mean) * scalarized_variance).sqrt()\n",
    "        if self.maximize:\n",
    "            return scalarized_mean + delta\n",
    "        else:\n",
    "            return scalarized_mean - delta"
   ]
  },
  {
   "cell_type": "markdown",
   "id": "e9450bb1",
   "metadata": {},
   "source": [
    "Once again, we will test our implementation of scalarized UCB and reuse the\n",
    "`SingleTaskGP` multi-output model trained on synthetic data from before. Note\n",
    "that we will pass in an explicit q-batch dimension for consistency, even though\n",
    "$q=1$."
   ]
  },
  {
   "cell_type": "code",
   "execution_count": 32,
   "id": "8fe2442d",
   "metadata": {},
   "outputs": [],
   "source": [
    "# initialize acquisition function\n",
    "SUCB = ScalarizedUpperConfidenceBound(gp, beta=0.1,\n",
    "                                      weights=torch.tensor([0.1, 0.5]))"
   ]
  },
  {
   "cell_type": "code",
   "execution_count": 33,
   "id": "2da3d61f",
   "metadata": {},
   "outputs": [
    {
     "data": {
      "text/plain": [
       "tensor([0.5253], grad_fn=<AddBackward0>)"
      ]
     },
     "execution_count": 33,
     "metadata": {},
     "output_type": "execute_result"
    }
   ],
   "source": [
    "# evaluate on a single point\n",
    "SUCB(torch.rand(1, 2))"
   ]
  },
  {
   "cell_type": "code",
   "execution_count": 34,
   "id": "5bb67d3e",
   "metadata": {},
   "outputs": [
    {
     "data": {
      "text/plain": [
       "tensor([0.4296, 0.3640, 0.5512], grad_fn=<AddBackward0>)"
      ]
     },
     "execution_count": 34,
     "metadata": {},
     "output_type": "execute_result"
    }
   ],
   "source": [
    "# batch-evaluate on 3 points\n",
    "SUCB(torch.rand(3, 1, 2))"
   ]
  },
  {
   "cell_type": "markdown",
   "id": "47c6060f",
   "metadata": {},
   "source": [
    "As promised, we can use the `ScalarizedPosteriorTransform` class to easily and\n",
    "automatically handle the scalarization for us. This only requires a couple lines\n",
    "of code and this class can be used for both the analytic and Monte Carlo\n",
    "versions."
   ]
  },
  {
   "cell_type": "code",
   "execution_count": 35,
   "id": "4a2d81b1",
   "metadata": {},
   "outputs": [],
   "source": [
    "from botorch.acquisition.objective import ScalarizedPosteriorTransform\n",
    "from botorch.acquisition.analytic import UpperConfidenceBound\n",
    "\n",
    "pt = ScalarizedPosteriorTransform(weights=torch.tensor([0.1, 0.5]))\n",
    "SUCB = UpperConfidenceBound(gp, beta=0.1, posterior_transform=pt)"
   ]
  },
  {
   "cell_type": "markdown",
   "id": "ccd27127",
   "metadata": {},
   "source": [
    "## Advanced Usage\n",
    "The tutorials in this section are focused on advanced BoTorch approaches."
   ]
  }
 ],
 "metadata": {
  "kernelspec": {
   "display_name": "bo-env",
   "language": "python",
   "name": "python3"
  },
  "language_info": {
   "codemirror_mode": {
    "name": "ipython",
    "version": 3
   },
   "file_extension": ".py",
   "mimetype": "text/x-python",
   "name": "python",
   "nbconvert_exporter": "python",
   "pygments_lexer": "ipython3",
   "version": "3.11.11"
  }
 },
 "nbformat": 4,
 "nbformat_minor": 5
}
