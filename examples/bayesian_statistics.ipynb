{
 "cells": [
  {
   "cell_type": "markdown",
   "id": "a5de18a7",
   "metadata": {},
   "source": [
    "# Bayesian Statistics\n",
    "_Drew Gjerstad_\n",
    "\n",
    "**Content adapted from**"
   ]
  },
  {
   "cell_type": "code",
   "execution_count": null,
   "id": "c6df31af",
   "metadata": {},
   "outputs": [],
   "source": []
  }
 ],
 "metadata": {
  "kernelspec": {
   "display_name": "Python 3",
   "language": "python",
   "name": "python3"
  },
  "language_info": {
   "name": "python",
   "version": "3.11.11"
  }
 },
 "nbformat": 4,
 "nbformat_minor": 5
}
