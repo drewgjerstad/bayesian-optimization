{
 "cells": [
  {
   "cell_type": "markdown",
   "id": "c1d97bba",
   "metadata": {},
   "source": [
    "# Comparison of GPyTorch and GAUCHE Libraries\n",
    "_Drew Gjerstad, University of Minnesota_"
   ]
  },
  {
   "cell_type": "markdown",
   "id": "47b9306c",
   "metadata": {},
   "source": [
    "## Introduction"
   ]
  },
  {
   "cell_type": "markdown",
   "id": "b7bf4bdf",
   "metadata": {},
   "source": [
    "[GPyTorch](https://gpytorch.ai) is a Python library that contains a highly\n",
    "efficient and modular implementation of Gaussian processes (GPs) with GPU\n",
    "acceleration in PyTorch, a popular deep learning framework. Gaussian processes\n",
    "can be used to form surrogate models within the Bayesian optimization paradigm.\n",
    "However, sometimes we wish to build these surrogate models based on data with\n",
    "irregular representations such as graph-based data. This is where the\n",
    "[GAUCHE](https://github.com/leojklarner/gauche) library becomes attractive. The\n",
    "GAUCHE package was originally designed for building Gaussian processes and\n",
    "performing Bayesian optimization on molecular representations. However, it can\n",
    "be used to build Gaussian processes for graph-based data in general."
   ]
  },
  {
   "cell_type": "markdown",
   "id": "9dbd86e0",
   "metadata": {},
   "source": [
    "### Installing GPyTorch\n",
    "To install `gpytorch`, run the following cell. Alternatively, run this command\n",
    "in your terminal: `pip install gpytorch`. Note that this requires Python version\n",
    "3.8 or higher."
   ]
  },
  {
   "cell_type": "code",
   "execution_count": null,
   "id": "645accf9",
   "metadata": {},
   "outputs": [],
   "source": [
    "%pip install gpytorch"
   ]
  },
  {
   "cell_type": "markdown",
   "id": "cff58868",
   "metadata": {},
   "source": [
    "### Installing GAUCHE\n",
    "To install `gauche`, run the following cell. Alternatively, run this command in\n",
    "your terminal: `pip install gauche`. Note that this requires Python version 3.9\n",
    "or higher and additional installation options are available at the\n",
    "[gauche GitHub repository](https://github.com/leojklarner/gauche)."
   ]
  },
  {
   "cell_type": "code",
   "execution_count": null,
   "id": "c7b05aed",
   "metadata": {},
   "outputs": [],
   "source": [
    "%pip install gauche"
   ]
  },
  {
   "cell_type": "markdown",
   "id": "aab50d0e",
   "metadata": {},
   "source": [
    "## GPyTorch Implementation"
   ]
  },
  {
   "cell_type": "markdown",
   "id": "7d539f71",
   "metadata": {},
   "source": [
    "Before we begin examining the implementation of the GPyTorch library, the\n",
    "documentation for the entire library in addition to examples (some of which will\n",
    "be featured in this notebook) can be found here:\n",
    "[GPyTorch docs](https://docs.gpytorch.ai/en/stable/). First, we will examine the\n",
    "different components that make up the \"anatomy\" of the library.\n",
    "\n",
    " * `gpytorch.models` contains various models that will handle the inference.\n",
    " * `gpytorch.likelihoods` contains multiple likelihood functions.\n",
    " * `gpytorch.means` contains several different prior means for the GP.\n",
    " * `gpytorch.kernels` contains different kernels used to determine the prior\n",
    "    covariance of the GP.\n",
    " * `gpytorch.distributions` contains representations of different distributions.\n",
    "\n",
    "These are the primary modules that are used to develop a Gaussian process. There\n",
    "are a few other modules within the GPyTorch library but for the purposes of this\n",
    "comparison these are the ones we will focus on."
   ]
  },
  {
   "cell_type": "markdown",
   "id": "d5798d54",
   "metadata": {},
   "source": [
    "### Basic Usage\n",
    "In this section, we will develop a basic GPyTorch model and use it to make\n",
    "predictions. This is based on the\n",
    "[Simple GPyTorch Regression Tutorial](https://docs.gpytorch.ai/en/stable/examples/01_Exact_GPs/Simple_GP_Regression.html) that demonstrates how to train an RBF kernel Gaussian\n",
    "process on a simple function. The function that is modeled is given by\n",
    "\n",
    "$$y = \\sin(2\\pi x) + \\epsilon$$\n",
    "\n",
    "$$\\epsilon \\sim \\mathcal{N}(0, 0.04)$$"
   ]
  },
  {
   "cell_type": "code",
   "execution_count": 1,
   "id": "9d2d1a0d",
   "metadata": {},
   "outputs": [],
   "source": [
    "# Load Dependencies\n",
    "import math\n",
    "import torch\n",
    "import gpytorch\n",
    "from matplotlib import pyplot as plt"
   ]
  },
  {
   "cell_type": "code",
   "execution_count": 35,
   "id": "c84e4211",
   "metadata": {},
   "outputs": [],
   "source": [
    "# Initialize Training Data\n",
    "train_x = torch.linspace(0, 1, 100)  # 100 training points, evenly spaced\n",
    "train_y = (torch.sin(train_x * (2 * math.pi)) + \n",
    "           torch.randn(train_x.size()) * math.sqrt(0.04))  # true function y"
   ]
  },
  {
   "cell_type": "markdown",
   "id": "0378ff4f",
   "metadata": {},
   "source": [
    "In the setup below, the way models are specified in GPyTorch enables flexibility\n",
    "when it comes to defining a model. As shown below, if we want to compose two\n",
    "kernels via addition this can either be done directly in the `__init__` method\n",
    "or the outputs of each kernel can be added in the `forward` method.\n",
    "\n",
    "`self.covar_module = ScaleKernel(RBFKernel() + LinearKernel())`\n",
    "\n",
    "`covar_x = self.rbf_kernel_module(x) + self.white_noise_module(x)`"
   ]
  },
  {
   "cell_type": "code",
   "execution_count": 13,
   "id": "5d295ac6",
   "metadata": {},
   "outputs": [],
   "source": [
    "# Set Up Model (simplest form -> exact inference)\n",
    "from gpytorch.models import ExactGP\n",
    "from gpytorch.likelihoods import GaussianLikelihood\n",
    "from gpytorch.means import ConstantMean\n",
    "from gpytorch.kernels import ScaleKernel, RBFKernel\n",
    "from gpytorch.distributions import MultivariateNormal\n",
    "\n",
    "class ExactGPModel(ExactGP):\n",
    "    def __init__(self, train_x, train_y, likelihood):\n",
    "        \"\"\"\n",
    "        This method takes the training data and likelihood to construct any\n",
    "        objects which are needed for the model's `forward` method. Typically,\n",
    "        this includes objects such as a mean module and a kernel module.\n",
    "        \"\"\"\n",
    "        super(ExactGPModel, self).__init__(train_x, train_y, likelihood)\n",
    "        self.mean_module = ConstantMean()\n",
    "        self.covar_module = ScaleKernel(RBFKernel())\n",
    "\n",
    "    def forward(self, x):\n",
    "        \"\"\"\n",
    "        This method takes in some data, `x`, with shape (n, d) and returns a\n",
    "        `MultivariateNormal` with the prior mean and covariance evaluated at\n",
    "        `x`. Simply put, this method returns the vector mu(x) and the n-by-n\n",
    "        matrix K_{xx} which represents the prior mean and covariance matrix of\n",
    "        the Gaussian process, respectively.\n",
    "        \"\"\"\n",
    "        mean_x = self.mean_module(x)\n",
    "        covar_x = self.covar_module(x)\n",
    "        return MultivariateNormal(mean_x, covar_x)"
   ]
  },
  {
   "cell_type": "code",
   "execution_count": 14,
   "id": "960aa3f8",
   "metadata": {},
   "outputs": [],
   "source": [
    "# Initialize Likelihood and Model\n",
    "likelihood = GaussianLikelihood()\n",
    "model = ExactGPModel(train_x, train_y, likelihood)"
   ]
  },
  {
   "cell_type": "markdown",
   "id": "0ea51656",
   "metadata": {},
   "source": [
    "Just like in PyTorch, the models in GPyTorch also have different modes for\n",
    "training and evaluation: `.train()` and `.eval()`, respectively. The training\n",
    "mode is used for optimizing model hyperparameters and the evaluation mode is\n",
    "for computing predictions via the model posterior.\n",
    "\n",
    "One notable difference when compared to other Gaussian process libraries, as is\n",
    "standard practice in PyTorch, the training loop is defined by the user. In\n",
    "addition, in GPyTorch, we utilize standard PyTorch optimizers from `torch.optim`\n",
    "where all trainable parameters should have type `torch.nn.Parameter`. Finally,\n",
    "since the GP models defined by GPyTorch extend `torch.nn.Module`, function calls\n",
    "to `model.parameters()` and `model.named_parameters()` function as one would\n",
    "expect in standard PyTorch.\n",
    "\n",
    "The training loop defined below has the same components as a standard PyTorch\n",
    "training loop:\n",
    "1. Zero all parameter gradients.\n",
    "2. Call the model, compute the loss.\n",
    "3. Call backward on the loss to fill in gradients.\n",
    "4. Take a step on the optimizer.\n",
    "\n",
    "An advantage of GPyTorch over other GP libraries is that being able to directly\n",
    "define the training loop allows for increased flexibility. For example, we are\n",
    "able to save the parameters at each step of training (useful for keeping track\n",
    "of the best model at different steps in the optimization process), or use\n",
    "different learning rates for different parameters (useful for deep kernel\n",
    "learning)."
   ]
  },
  {
   "cell_type": "code",
   "execution_count": 16,
   "id": "2fb9addf",
   "metadata": {},
   "outputs": [
    {
     "name": "stdout",
     "output_type": "stream",
     "text": [
      "Iteration 10/50 - Loss: -0.064    lengthscale: 0.262    noise: 0.037\n",
      "Iteration 20/50 - Loss: -0.064    lengthscale: 0.257    noise: 0.041\n",
      "Iteration 30/50 - Loss: -0.064    lengthscale: 0.259    noise: 0.039\n",
      "Iteration 40/50 - Loss: -0.064    lengthscale: 0.260    noise: 0.038\n",
      "Iteration 50/50 - Loss: -0.064    lengthscale: 0.258    noise: 0.039\n"
     ]
    }
   ],
   "source": [
    "# Run Notebook in Testing Framework\n",
    "import os\n",
    "smoke_test = ('CI' in os.environ)\n",
    "training_iter = 2 if smoke_test else 50\n",
    "\n",
    "# Set Model and Likelihood to Training Mode\n",
    "model.train()\n",
    "likelihood.train()\n",
    "\n",
    "# Initialize Adam Optimizer (used to find optimal hyperparameters)\n",
    "optimizer = torch.optim.Adam(model.parameters(), lr=0.1)\n",
    "\n",
    "# Define the \"Loss\" for GPs (the marginal log-likelihood)\n",
    "mll = gpytorch.mlls.ExactMarginalLogLikelihood(likelihood, model)\n",
    "\n",
    "# Define Training Loop\n",
    "for i in range(training_iter):\n",
    "    # (1) Zero gradients from previous iteration.\n",
    "    optimizer.zero_grad()\n",
    "\n",
    "    # (2) Call the model, compute the loss.\n",
    "    output = model(train_x)\n",
    "    loss = -mll(output, train_y)\n",
    "\n",
    "    # (3) Call backward on the loss to fill in gradients.\n",
    "    loss.backward()\n",
    "\n",
    "    # Print Info (every 10 iterations to reduce output)\n",
    "    if (i + 1) % 10 == 0:\n",
    "        print('Iteration %d/%d - Loss: %.3f    lengthscale: %.3f    noise: %.3f'\n",
    "               % (i + 1, training_iter, loss.item(),\n",
    "                  model.covar_module.base_kernel.lengthscale.item(),\n",
    "                  model.likelihood.noise.item()\n",
    "                 )\n",
    "        )\n",
    "\n",
    "    # (4) Take a step on the optimizer.\n",
    "    optimizer.step()"
   ]
  },
  {
   "cell_type": "markdown",
   "id": "d820d5fd",
   "metadata": {},
   "source": [
    "Once the model is trained, we can use it to make predictions. If we denote a\n",
    "test point (`test_x`) as `x*` with the true output being `y*`, then\n",
    "`model(test_x)` will return the model posterior distribution `p(f* | x*, X, y)`,\n",
    "for training data `X`, `y`. This distribution is the posterior over the function\n",
    "that we are trying to model, quantifying our model uncertainty.\n",
    "\n",
    "On the other hand, `likelihood(model(test_x))` provides the posterior\n",
    "predictive distribution `p(y* | x*, X, y)` which is the probability distribution\n",
    "over the predicted output value. Therefore, obtaining the predictive mean and\n",
    "variance, and then sampling from the Gaussian process at the given test points\n",
    "can be accomplished using the calls in the next code cell below."
   ]
  },
  {
   "cell_type": "code",
   "execution_count": 34,
   "id": "7047e0bb",
   "metadata": {},
   "outputs": [],
   "source": [
    "# Initialize Testing Data\n",
    "test_x = torch.linspace(0, 1, 51)\n",
    "test_y = (torch.sin(test_x * (2 * math.pi)) +\n",
    "           torch.randn(test_x.size()) * math.sqrt(0.04))"
   ]
  },
  {
   "cell_type": "code",
   "execution_count": null,
   "id": "3427bd6c",
   "metadata": {},
   "outputs": [],
   "source": [
    "# Put Model Into Evaluation Model\n",
    "model.eval()\n",
    "likelihood.eval()"
   ]
  },
  {
   "cell_type": "code",
   "execution_count": null,
   "id": "742ccaf6",
   "metadata": {},
   "outputs": [],
   "source": [
    "# Obtain Predictive Mean and Variance, Sample from GP\n",
    "f_pred = model(test_x)\n",
    "y_pred = likelihood(model(test_x))\n",
    "\n",
    "f_mean = f_pred.mean\n",
    "f_var = f_pred.variance\n",
    "f_covar = f_pred.covariance_matrix\n",
    "f_samples = f_pred.sample(sample_shape=torch.Size((1000,)))"
   ]
  },
  {
   "cell_type": "code",
   "execution_count": 32,
   "id": "a25e78e3",
   "metadata": {},
   "outputs": [],
   "source": [
    "# Make Predictions With the Model\n",
    "with torch.no_grad(), gpytorch.settings.fast_pred_var():\n",
    "    observed_pred = likelihood(model(test_x))"
   ]
  },
  {
   "cell_type": "code",
   "execution_count": 36,
   "id": "a36a5220",
   "metadata": {},
   "outputs": [
    {
     "data": {
      "image/png": "[encoded data removed]",
      "text/plain": [
       "<Figure size 400x300 with 1 Axes>"
      ]
     },
     "metadata": {},
     "output_type": "display_data"
    }
   ],
   "source": [
    "# Plot the Model Fit\n",
    "with torch.no_grad():\n",
    "    # Define Plot\n",
    "    f, ax = plt.subplots(1, 1, figsize=(4, 3))\n",
    "\n",
    "    # Obtain Upper and Lower Confidence Bounds\n",
    "    lcb, ucb = observed_pred.confidence_region()\n",
    "\n",
    "    # Plot training data (black stars)\n",
    "    ax.plot(train_x.numpy(), train_y.numpy(), 'k*')\n",
    "\n",
    "    # Plot predictive means (blue line)\n",
    "    ax.plot(test_x.numpy(), observed_pred.mean.numpy(), 'b')\n",
    "\n",
    "    # Shade between LCB, UCB\n",
    "    ax.fill_between(test_x.numpy(), lcb.numpy(), ucb.numpy(), alpha=0.5)\n",
    "    ax.set_ylim([-3, 3])\n",
    "    ax.legend(['Observed Data', 'Mean', 'Confidence'])"
   ]
  },
  {
   "cell_type": "markdown",
   "id": "69258314",
   "metadata": {},
   "source": [
    "## GAUCHE Implementation"
   ]
  },
  {
   "cell_type": "markdown",
   "id": "f637d747",
   "metadata": {},
   "source": []
  },
  {
   "cell_type": "markdown",
   "id": "f4eef6fc",
   "metadata": {},
   "source": [
    "### Examples"
   ]
  },
  {
   "cell_type": "code",
   "execution_count": null,
   "id": "531228c6",
   "metadata": {},
   "outputs": [],
   "source": []
  },
  {
   "cell_type": "markdown",
   "id": "4adcc8e3",
   "metadata": {},
   "source": [
    "## Implementation Comparison"
   ]
  },
  {
   "cell_type": "markdown",
   "id": "8c13c1d6",
   "metadata": {},
   "source": []
  }
 ],
 "metadata": {
  "kernelspec": {
   "display_name": "Python 3",
   "language": "python",
   "name": "python3"
  },
  "language_info": {
   "codemirror_mode": {
    "name": "ipython",
    "version": 3
   },
   "file_extension": ".py",
   "mimetype": "text/x-python",
   "name": "python",
   "nbconvert_exporter": "python",
   "pygments_lexer": "ipython3",
   "version": "3.12.4"
  }
 },
 "nbformat": 4,
 "nbformat_minor": 5
}
