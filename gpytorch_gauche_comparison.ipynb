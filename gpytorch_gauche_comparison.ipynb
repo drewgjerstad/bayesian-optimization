{
 "cells": [
  {
   "cell_type": "markdown",
   "id": "c1d97bba",
   "metadata": {},
   "source": [
    "# Comparison of GPyTorch and GAUCHE Libraries\n",
    "_Drew Gjerstad, University of Minnesota_\n",
    "\n",
    "**Includes content from the GPyTorch's and GAUCHE's documentation.**"
   ]
  },
  {
   "cell_type": "markdown",
   "id": "47b9306c",
   "metadata": {},
   "source": [
    "## Introduction"
   ]
  },
  {
   "cell_type": "markdown",
   "id": "b7bf4bdf",
   "metadata": {},
   "source": [
    "[GPyTorch](https://gpytorch.ai) is a Python library that contains a highly\n",
    "efficient and modular implementation of Gaussian processes (GPs) with GPU\n",
    "acceleration in PyTorch, a popular deep learning framework. Gaussian processes\n",
    "can be used to form surrogate models within the Bayesian optimization paradigm.\n",
    "However, sometimes we wish to build these surrogate models based on data with\n",
    "irregular representations such as graph-based data. This is where the\n",
    "[GAUCHE](https://github.com/leojklarner/gauche) library becomes attractive. The\n",
    "GAUCHE package was originally designed for building Gaussian processes and\n",
    "performing Bayesian optimization on molecular representations. However, it can\n",
    "be used to build Gaussian processes for graph-based data in general."
   ]
  },
  {
   "cell_type": "markdown",
   "id": "9dbd86e0",
   "metadata": {},
   "source": [
    "### Installing GPyTorch\n",
    "To install `gpytorch`, run the following cell. Alternatively, run this command\n",
    "in your terminal: `pip install gpytorch`. Note that this requires Python version\n",
    "3.8 or higher."
   ]
  },
  {
   "cell_type": "code",
   "execution_count": null,
   "id": "645accf9",
   "metadata": {},
   "outputs": [],
   "source": [
    "%pip install gpytorch"
   ]
  },
  {
   "cell_type": "markdown",
   "id": "cff58868",
   "metadata": {},
   "source": [
    "### Installing GAUCHE\n",
    "To install `gauche`, run the following cell. Alternatively, run this command in\n",
    "your terminal: `pip install gauche`. Note that this requires Python version 3.9\n",
    "or higher and additional installation options are available at the\n",
    "[gauche GitHub repository](https://github.com/leojklarner/gauche)."
   ]
  },
  {
   "cell_type": "code",
   "execution_count": null,
   "id": "c7b05aed",
   "metadata": {},
   "outputs": [],
   "source": [
    "%pip install gauche"
   ]
  },
  {
   "cell_type": "markdown",
   "id": "aab50d0e",
   "metadata": {},
   "source": [
    "## GPyTorch Implementation"
   ]
  },
  {
   "cell_type": "markdown",
   "id": "7d539f71",
   "metadata": {},
   "source": [
    "Before we begin examining the implementation of the GPyTorch library, the\n",
    "documentation for the entire library in addition to examples (some of which will\n",
    "be featured in this notebook) can be found here:\n",
    "[GPyTorch docs](https://docs.gpytorch.ai/en/stable/). First, we will examine the\n",
    "different components that make up the \"anatomy\" of the library.\n",
    "\n",
    " * `gpytorch.models` contains various models that will handle the inference.\n",
    " * `gpytorch.likelihoods` contains multiple likelihood functions.\n",
    " * `gpytorch.means` contains several different prior means for the GP.\n",
    " * `gpytorch.kernels` contains different kernels used to determine the prior\n",
    "    covariance of the GP.\n",
    " * `gpytorch.distributions` contains representations of different distributions.\n",
    "\n",
    "These are the primary modules that are used to develop a Gaussian process. There\n",
    "are a few other modules within the GPyTorch library but for the purposes of this\n",
    "comparison these are the ones we will focus on."
   ]
  },
  {
   "cell_type": "markdown",
   "id": "d5798d54",
   "metadata": {},
   "source": [
    "### Basic Usage\n",
    "In this section, we will develop a basic GPyTorch model and use it to make\n",
    "predictions. This is based on the\n",
    "[Simple GPyTorch Regression Tutorial](https://docs.gpytorch.ai/en/stable/examples/01_Exact_GPs/Simple_GP_Regression.html) that demonstrates how to train an RBF kernel Gaussian\n",
    "process on a simple function. The function that is modeled is given by\n",
    "\n",
    "$$y = \\sin(2\\pi x) + \\epsilon$$\n",
    "\n",
    "$$\\epsilon \\sim \\mathcal{N}(0, 0.04)$$"
   ]
  },
  {
   "cell_type": "code",
   "execution_count": 1,
   "id": "9d2d1a0d",
   "metadata": {},
   "outputs": [],
   "source": [
    "# Load Dependencies\n",
    "import math\n",
    "import torch\n",
    "import gpytorch\n",
    "from matplotlib import pyplot as plt"
   ]
  },
  {
   "cell_type": "code",
   "execution_count": 35,
   "id": "c84e4211",
   "metadata": {},
   "outputs": [],
   "source": [
    "# Initialize Training Data\n",
    "train_x = torch.linspace(0, 1, 100)  # 100 training points, evenly spaced\n",
    "train_y = (torch.sin(train_x * (2 * math.pi)) + \n",
    "           torch.randn(train_x.size()) * math.sqrt(0.04))  # true function y"
   ]
  },
  {
   "cell_type": "markdown",
   "id": "0378ff4f",
   "metadata": {},
   "source": [
    "In the setup below, the way models are specified in GPyTorch enables flexibility\n",
    "when it comes to defining a model. As shown below, if we want to compose two\n",
    "kernels via addition this can either be done directly in the `__init__` method\n",
    "or the outputs of each kernel can be added in the `forward` method.\n",
    "\n",
    "`self.covar_module = ScaleKernel(RBFKernel() + LinearKernel())`\n",
    "\n",
    "`covar_x = self.rbf_kernel_module(x) + self.white_noise_module(x)`"
   ]
  },
  {
   "cell_type": "code",
   "execution_count": 13,
   "id": "5d295ac6",
   "metadata": {},
   "outputs": [],
   "source": [
    "# Set Up Model (simplest form -> exact inference)\n",
    "from gpytorch.models import ExactGP\n",
    "from gpytorch.likelihoods import GaussianLikelihood\n",
    "from gpytorch.means import ConstantMean\n",
    "from gpytorch.kernels import ScaleKernel, RBFKernel\n",
    "from gpytorch.distributions import MultivariateNormal\n",
    "\n",
    "class ExactGPModel(ExactGP):\n",
    "    def __init__(self, train_x, train_y, likelihood):\n",
    "        \"\"\"\n",
    "        This method takes the training data and likelihood to construct any\n",
    "        objects which are needed for the model's `forward` method. Typically,\n",
    "        this includes objects such as a mean module and a kernel module.\n",
    "        \"\"\"\n",
    "        super(ExactGPModel, self).__init__(train_x, train_y, likelihood)\n",
    "        self.mean_module = ConstantMean()\n",
    "        self.covar_module = ScaleKernel(RBFKernel())\n",
    "\n",
    "    def forward(self, x):\n",
    "        \"\"\"\n",
    "        This method takes in some data, `x`, with shape (n, d) and returns a\n",
    "        `MultivariateNormal` with the prior mean and covariance evaluated at\n",
    "        `x`. Simply put, this method returns the vector mu(x) and the n-by-n\n",
    "        matrix K_{xx} which represents the prior mean and covariance matrix of\n",
    "        the Gaussian process, respectively.\n",
    "        \"\"\"\n",
    "        mean_x = self.mean_module(x)\n",
    "        covar_x = self.covar_module(x)\n",
    "        return MultivariateNormal(mean_x, covar_x)"
   ]
  },
  {
   "cell_type": "code",
   "execution_count": 14,
   "id": "960aa3f8",
   "metadata": {},
   "outputs": [],
   "source": [
    "# Initialize Likelihood and Model\n",
    "likelihood = GaussianLikelihood()\n",
    "model = ExactGPModel(train_x, train_y, likelihood)"
   ]
  },
  {
   "cell_type": "markdown",
   "id": "0ea51656",
   "metadata": {},
   "source": [
    "Just like in PyTorch, the models in GPyTorch also have different modes for\n",
    "training and evaluation: `.train()` and `.eval()`, respectively. The training\n",
    "mode is used for optimizing model hyperparameters and the evaluation mode is\n",
    "for computing predictions via the model posterior.\n",
    "\n",
    "One notable difference when compared to other Gaussian process libraries, as is\n",
    "standard practice in PyTorch, the training loop is defined by the user. In\n",
    "addition, in GPyTorch, we utilize standard PyTorch optimizers from `torch.optim`\n",
    "where all trainable parameters should have type `torch.nn.Parameter`. Finally,\n",
    "since the GP models defined by GPyTorch extend `torch.nn.Module`, function calls\n",
    "to `model.parameters()` and `model.named_parameters()` function as one would\n",
    "expect in standard PyTorch.\n",
    "\n",
    "The training loop defined below has the same components as a standard PyTorch\n",
    "training loop:\n",
    "1. Zero all parameter gradients.\n",
    "2. Call the model, compute the loss.\n",
    "3. Call backward on the loss to fill in gradients.\n",
    "4. Take a step on the optimizer.\n",
    "\n",
    "An advantage of GPyTorch over other GP libraries is that being able to directly\n",
    "define the training loop allows for increased flexibility. For example, we are\n",
    "able to save the parameters at each step of training (useful for keeping track\n",
    "of the best model at different steps in the optimization process), or use\n",
    "different learning rates for different parameters (useful for deep kernel\n",
    "learning)."
   ]
  },
  {
   "cell_type": "code",
   "execution_count": 16,
   "id": "2fb9addf",
   "metadata": {},
   "outputs": [
    {
     "name": "stdout",
     "output_type": "stream",
     "text": [
      "Iteration 10/50 - Loss: -0.064    lengthscale: 0.262    noise: 0.037\n",
      "Iteration 20/50 - Loss: -0.064    lengthscale: 0.257    noise: 0.041\n",
      "Iteration 30/50 - Loss: -0.064    lengthscale: 0.259    noise: 0.039\n",
      "Iteration 40/50 - Loss: -0.064    lengthscale: 0.260    noise: 0.038\n",
      "Iteration 50/50 - Loss: -0.064    lengthscale: 0.258    noise: 0.039\n"
     ]
    }
   ],
   "source": [
    "# Run Notebook in Testing Framework\n",
    "import os\n",
    "smoke_test = ('CI' in os.environ)\n",
    "training_iter = 2 if smoke_test else 50\n",
    "\n",
    "# Set Model and Likelihood to Training Mode\n",
    "model.train()\n",
    "likelihood.train()\n",
    "\n",
    "# Initialize Adam Optimizer (used to find optimal hyperparameters)\n",
    "optimizer = torch.optim.Adam(model.parameters(), lr=0.1)\n",
    "\n",
    "# Define the \"Loss\" for GPs (the marginal log-likelihood)\n",
    "mll = gpytorch.mlls.ExactMarginalLogLikelihood(likelihood, model)\n",
    "\n",
    "# Define Training Loop\n",
    "for i in range(training_iter):\n",
    "    # (1) Zero gradients from previous iteration.\n",
    "    optimizer.zero_grad()\n",
    "\n",
    "    # (2) Call the model, compute the loss.\n",
    "    output = model(train_x)\n",
    "    loss = -mll(output, train_y)\n",
    "\n",
    "    # (3) Call backward on the loss to fill in gradients.\n",
    "    loss.backward()\n",
    "\n",
    "    # Print Info (every 10 iterations to reduce output)\n",
    "    if (i + 1) % 10 == 0:\n",
    "        print('Iteration %d/%d - Loss: %.3f    lengthscale: %.3f    noise: %.3f'\n",
    "               % (i + 1, training_iter, loss.item(),\n",
    "                  model.covar_module.base_kernel.lengthscale.item(),\n",
    "                  model.likelihood.noise.item()\n",
    "                 )\n",
    "        )\n",
    "\n",
    "    # (4) Take a step on the optimizer.\n",
    "    optimizer.step()"
   ]
  },
  {
   "cell_type": "markdown",
   "id": "d820d5fd",
   "metadata": {},
   "source": [
    "Once the model is trained, we can use it to make predictions. If we denote a\n",
    "test point (`test_x`) as `x*` with the true output being `y*`, then\n",
    "`model(test_x)` will return the model posterior distribution `p(f* | x*, X, y)`,\n",
    "for training data `X`, `y`. This distribution is the posterior over the function\n",
    "that we are trying to model, quantifying our model uncertainty.\n",
    "\n",
    "On the other hand, `likelihood(model(test_x))` provides the posterior\n",
    "predictive distribution `p(y* | x*, X, y)` which is the probability distribution\n",
    "over the predicted output value. Therefore, obtaining the predictive mean and\n",
    "variance, and then sampling from the Gaussian process at the given test points\n",
    "can be accomplished using the calls in the next code cell below."
   ]
  },
  {
   "cell_type": "code",
   "execution_count": 34,
   "id": "7047e0bb",
   "metadata": {},
   "outputs": [],
   "source": [
    "# Initialize Testing Data\n",
    "test_x = torch.linspace(0, 1, 51)\n",
    "test_y = (torch.sin(test_x * (2 * math.pi)) +\n",
    "           torch.randn(test_x.size()) * math.sqrt(0.04))"
   ]
  },
  {
   "cell_type": "code",
   "execution_count": null,
   "id": "3427bd6c",
   "metadata": {},
   "outputs": [],
   "source": [
    "# Put Model Into Evaluation Model\n",
    "model.eval()\n",
    "likelihood.eval()"
   ]
  },
  {
   "cell_type": "code",
   "execution_count": null,
   "id": "742ccaf6",
   "metadata": {},
   "outputs": [],
   "source": [
    "# Obtain Predictive Mean and Variance, Sample from GP\n",
    "f_pred = model(test_x)\n",
    "y_pred = likelihood(model(test_x))\n",
    "\n",
    "f_mean = f_pred.mean\n",
    "f_var = f_pred.variance\n",
    "f_covar = f_pred.covariance_matrix\n",
    "f_samples = f_pred.sample(sample_shape=torch.Size((1000,)))"
   ]
  },
  {
   "cell_type": "code",
   "execution_count": 32,
   "id": "a25e78e3",
   "metadata": {},
   "outputs": [],
   "source": [
    "# Make Predictions With the Model\n",
    "with torch.no_grad(), gpytorch.settings.fast_pred_var():\n",
    "    observed_pred = likelihood(model(test_x))"
   ]
  },
  {
   "cell_type": "code",
   "execution_count": 36,
   "id": "a36a5220",
   "metadata": {},
   "outputs": [
    {
     "data": {
      "image/png": "[encoded data removed]",
      "text/plain": [
       "<Figure size 400x300 with 1 Axes>"
      ]
     },
     "metadata": {},
     "output_type": "display_data"
    }
   ],
   "source": [
    "# Plot the Model Fit\n",
    "with torch.no_grad():\n",
    "    # Define Plot\n",
    "    f, ax = plt.subplots(1, 1, figsize=(4, 3))\n",
    "\n",
    "    # Obtain Upper and Lower Confidence Bounds\n",
    "    lcb, ucb = observed_pred.confidence_region()\n",
    "\n",
    "    # Plot training data (black stars)\n",
    "    ax.plot(train_x.numpy(), train_y.numpy(), 'k*')\n",
    "\n",
    "    # Plot predictive means (blue line)\n",
    "    ax.plot(test_x.numpy(), observed_pred.mean.numpy(), 'b')\n",
    "\n",
    "    # Shade between LCB, UCB\n",
    "    ax.fill_between(test_x.numpy(), lcb.numpy(), ucb.numpy(), alpha=0.5)\n",
    "    ax.set_ylim([-3, 3])\n",
    "    ax.legend(['Observed Data', 'Mean', 'Confidence'])"
   ]
  },
  {
   "cell_type": "markdown",
   "id": "d23c2a98",
   "metadata": {},
   "source": [
    "### Multi-Kernel Composition\n",
    "In this section, we will discuss how we can compose multiple kernels in an\n",
    "additive or multiplicative manner in GPyTorch. These examples are adapted from\n",
    "the [Kernels with Additive or Product Structure](https://docs.gpytorch.ai/en/stable/examples/00_Basic_Usage/kernels_with_additive_or_product_structure.html) notebook provided within the\n",
    "GPyTorch documentation."
   ]
  },
  {
   "cell_type": "markdown",
   "id": "40882a0e",
   "metadata": {},
   "source": [
    "Out of all of the powerful properties that kernels possess, one of the most\n",
    "powerful is the fact that they possess closure under various composition\n",
    "operations such as summation and multiplication. Therefore, many covariance\n",
    "functions can be written as the sum or the product of $m$ component kernels:\n",
    "\n",
    "$$k_{\\text{sum}}(\\mathbf{x}, \\mathbf{x}') = \n",
    "  \\sum_{i=1}^{m}k_i(\\mathbf{x},\\mathbf{x}')$$\n",
    "\n",
    "$$k_{\\text{prod}}(\\mathbf{x}, \\mathbf{x}') =\n",
    "  \\prod_{i=1}^{m}k_i(\\mathbf{x}, \\mathbf{x}')$$\n",
    "\n",
    "There are several reasons for why additive and product kernels are useful.\n",
    "1. They are typically more interpretable, see [Duvenaud et al. (2011)](https://arxiv.org/pdf/1112.4394).\n",
    "2. They can be very powerful and expressive, see\n",
    "   [Wilson and Adams (2013)](https://proceedings.mlr.press/v28/wilson13.pdf).\n",
    "3. They can be rather sample efficient for Bayesian optimization, see\n",
    "   [Kandasamy et al. (2015)](https://arxiv.org/pdf/1503.01673) and\n",
    "   [Gardner et al. (2017)](https://proceedings.mlr.press/v54/gardner17a/gardner17a.pdf).\n",
    "\n",
    "While the simplest mechanism to perform additive and product compositions of\n",
    "kernels in GPyTorch is to either add/multiply the kernel objects together or\n",
    "add/multiply their outputs, there are far more efficient (albeit more complex)\n",
    "methods to accomplish this. These more efficient methods will also enable us to\n",
    "utilize significant parallelism, especially when using GPUs for acceleration."
   ]
  },
  {
   "cell_type": "markdown",
   "id": "4463f99a",
   "metadata": {},
   "source": [
    "#### Simple Sums and Products\n",
    "To demonstrate simple sums and products of kernels in GPyTorch, we will consider\n",
    "the [spectral mixture kernel](https://docs.gpytorch.ai/en/stable/kernels.html#spectralmixturekernel)\n",
    "that has two components on a univariate input. Without the scaling components,\n",
    "this kernel can be implemented as:\n",
    "\n",
    "$$k_{\\text{SM}}(x, x') = k_{\\text{RBF}}(x, x', \\ell_1)k_{\\cos}(x, x'; \\omega_1)+\n",
    "  k_{\\text{RBF}}(x, x', \\ell_2)k_{\\cos}(x, x'; \\omega_2)$$\n",
    "\n",
    "where $\\ell_1$, $\\ell_2$, $\\omega_1$, $\\omega_2$ are hyperparameters. The code\n",
    "cell below implements this kernel (naively) in two ways."
   ]
  },
  {
   "cell_type": "code",
   "execution_count": 37,
   "id": "fdcf62bd",
   "metadata": {},
   "outputs": [],
   "source": [
    "# Initialize \"toy\" data\n",
    "X = torch.randn(10, 1)\n",
    "\n",
    "# Define base kernels\n",
    "rbf_kernel_1 = gpytorch.kernels.RBFKernel()\n",
    "cos_kernel_1 = gpytorch.kernels.CosineKernel()\n",
    "rbf_kernel_2 = gpytorch.kernels.RBFKernel()\n",
    "cos_kernel_2 = gpytorch.kernels.CosineKernel()\n",
    "\n",
    "# First (Naive) Implementation\n",
    "spectral_mixture = (rbf_kernel_1 * cos_kernel_1) + (rbf_kernel_2 * cos_kernel_2)\n",
    "covar = spectral_mixture(X)\n",
    "\n",
    "# Second (Naive) Implementation\n",
    "covar = rbf_kernel_1(X) * cos_kernel_1(X) + rbf_kernel_2(X) * cos_kernel_2(X)"
   ]
  },
  {
   "cell_type": "markdown",
   "id": "b7b407ce",
   "metadata": {},
   "source": [
    "In the first implementation, the spectral mixture kernel is created by adding\n",
    "and multiplying the component kernel objects. On the other hand, in the second\n",
    "implementation, the kernel is created by adding and multiplying the outputs of\n",
    "the component kernel objects. Keep in mind that _neither_ implementation should\n",
    "be used in practice to create the spectral mixture kernel. GPyTorch provides a\n",
    "far more efficient implementation via the `SpectralMixtureKernel` class."
   ]
  },
  {
   "cell_type": "markdown",
   "id": "a5cb0b88",
   "metadata": {},
   "source": [
    "#### Efficient Parallelism for Kernels with Additive/Product Structure\n",
    "In the prior section, we discussed the sum and products of kernels with\n",
    "different forms. However, we are often considering kernels with similar form.\n",
    "Thus, while the previous example is simple to read, it is rather slow in\n",
    "practice (under the hood, each kernel and any compositions are computed\n",
    "sequentially). Specifically, GPyTorch will compute the components in the\n",
    "following order, one-at-a-time: first cosine kernel, first RBF kernel, the\n",
    "product of the first cosine and RBF kernels, and so on.\n",
    "\n",
    "When each of the kernel components have the same functional form then we can\n",
    "exploit parallelism to obtain massive gains with respect to efficiency. To do\n",
    "this, we combine all of the component kernels into a **batch kernel** which\n",
    "allows the component kernels to be computed simultaneously (as opposed to\n",
    "sequentially, as in the previous example). Then, we compute the sum or product\n",
    "over the batch dimension with this strategy yielding significant speedups\n",
    "especially when using a GPU."
   ]
  },
  {
   "cell_type": "markdown",
   "id": "eb86e652",
   "metadata": {},
   "source": [
    "**Example 1: Summations of Univariate Kernels**\n",
    "\n",
    "Let's now consider an example where we assume that we have $d$-dimensional input\n",
    "data $\\boldsymbol{x}, \\boldsymbol{x}' \\in \\mathbb{R}^d$. From this, we will\n",
    "define an _additive kernel_ that is the sum of $d$ univariate RBF kernels such\n",
    "that each kernel will operate on a single dimension of the input data.\n",
    "\n",
    "$$k_{\\text{additive}}(\\boldsymbol{x}, \\boldsymbol{x}') = \\prod_{i=1}^{d}\n",
    "  k_{\\text{RBF}}(x^{(i)}, x'^{(i)}; \\ell^{(i)})$$\n",
    "\n",
    "where $\\ell^{(i)}$ is the _lengthscale_ associated with dimension $i$. Keep in\n",
    "mind that we are using a different lengthscale for each of the component\n",
    "kernels. However, we can still compute each of components in parallel using\n",
    "batching to increase efficiency. First, we will define a `RBFKernel` object that\n",
    "is designed to compute a batch of $d$ univariate kernels, as shown below."
   ]
  },
  {
   "cell_type": "code",
   "execution_count": 38,
   "id": "7330abf7",
   "metadata": {},
   "outputs": [],
   "source": [
    "# Define RBFKernel object\n",
    "d = 3\n",
    "\n",
    "batch_univariate_rbf = gpytorch.kernels.RBFKernel(\n",
    "    batch_shape=torch.Size([d]),\n",
    "    ard_num_dims=1,\n",
    ")"
   ]
  },
  {
   "cell_type": "markdown",
   "id": "1d5365a4",
   "metadata": {},
   "source": [
    "The inclusion of the `batch_shape` argument will ensure that the `lengthscale`\n",
    "parameter of `batch_univariate_rbf` is a `d x 1 x 1` tensor (such that each\n",
    "univariate kernel will possess its own lengthscale). If this is omitted then\n",
    "each univariate kernel would share the same lengthscale.\n",
    "\n",
    "In order to compute the univariate kernel matrices, we will need to input the\n",
    "proper dimensions of $\\mathbf{X}$ into each kernel. To do this, we reshape the\n",
    "`n x d` matrix representing $\\mathbf{X}$ into a batch of $d$ `n x 1` matrices."
   ]
  },
  {
   "cell_type": "code",
   "execution_count": 39,
   "id": "50a9edcf",
   "metadata": {},
   "outputs": [],
   "source": [
    "# Reshape X\n",
    "n = 10\n",
    "X = torch.randn(n, d)\n",
    "batched_dims_of_X = X.mT.unsqueeze(-1)"
   ]
  },
  {
   "cell_type": "code",
   "execution_count": 40,
   "id": "8418532c",
   "metadata": {},
   "outputs": [
    {
     "data": {
      "text/plain": [
       "torch.Size([3, 10, 10])"
      ]
     },
     "execution_count": 40,
     "metadata": {},
     "output_type": "execute_result"
    }
   ],
   "source": [
    "# Feed Batches of Data Into Batched Kernel Object\n",
    "univariate_rbf_covars = batch_univariate_rbf(batched_dims_of_X)\n",
    "univariate_rbf_covars.shape"
   ]
  },
  {
   "cell_type": "code",
   "execution_count": 41,
   "id": "268747da",
   "metadata": {},
   "outputs": [
    {
     "data": {
      "text/plain": [
       "torch.Size([10, 10])"
      ]
     },
     "execution_count": 41,
     "metadata": {},
     "output_type": "execute_result"
    }
   ],
   "source": [
    "# Obtain Multivariate Kernel by Computing Sum Over Batch\n",
    "additive_covar = univariate_rbf_covars.sum(dim=-3)\n",
    "additive_covar.shape"
   ]
  },
  {
   "cell_type": "markdown",
   "id": "1011c4d2",
   "metadata": {},
   "source": [
    "While this approach is comparable to the naive approach discussed previously on\n",
    "smaller datasets, this approach will become much more efficient as the size of\n",
    "the dataset increases to higher dimensions. Even more so on the GPU. Let's\n",
    "compare performance of these two approaches on a larger, higher-dimensioned\n",
    "dataset."
   ]
  },
  {
   "cell_type": "code",
   "execution_count": 42,
   "id": "0645a4d1",
   "metadata": {},
   "outputs": [
    {
     "name": "stdout",
     "output_type": "stream",
     "text": [
      "<torch.utils.benchmark.utils.common.Measurement object at 0x125ffd8b0>\n",
      "naive_kernel(X)\n",
      "  10.42 ms\n",
      "  1 measurement, 100 runs , 1 thread\n",
      "<torch.utils.benchmark.utils.common.Measurement object at 0x16b609a60>\n",
      "batch_kernel(X.mT.unsqueeze(-1)).sum(dim=-3)\n",
      "  8.18 ms\n",
      "  1 measurement, 100 runs , 1 thread\n"
     ]
    }
   ],
   "source": [
    "# Compare Approach Efficiency (Sequential/Naive versus Parallel/Batch)\n",
    "\n",
    "d = 10    # dimension\n",
    "n = 500   # number of samples\n",
    "\n",
    "# Define Device\n",
    "device = (torch.device(\"cuda\") if torch.cuda.is_available()\n",
    "          else torch.device(\"cpu\"))\n",
    "\n",
    "# Create Data\n",
    "X = torch.randn(n, d, device=device)\n",
    "\n",
    "# Define Sequential/Naive Kernel\n",
    "naive_kernel = (\n",
    "    gpytorch.kernels.RBFKernel(ard_num_dims=1, active_dims=[0]) +\n",
    "    gpytorch.kernels.RBFKernel(ard_num_dims=1, active_dims=[1]) +\n",
    "    gpytorch.kernels.RBFKernel(ard_num_dims=1, active_dims=[2]) +\n",
    "    gpytorch.kernels.RBFKernel(ard_num_dims=1, active_dims=[3]) +\n",
    "    gpytorch.kernels.RBFKernel(ard_num_dims=1, active_dims=[4]) +\n",
    "    gpytorch.kernels.RBFKernel(ard_num_dims=1, active_dims=[5]) +\n",
    "    gpytorch.kernels.RBFKernel(ard_num_dims=1, active_dims=[6]) +\n",
    "    gpytorch.kernels.RBFKernel(ard_num_dims=1, active_dims=[7]) +\n",
    "    gpytorch.kernels.RBFKernel(ard_num_dims=1, active_dims=[8]) +\n",
    "    gpytorch.kernels.RBFKernel(ard_num_dims=1, active_dims=[9])\n",
    ").to(device=device)\n",
    "\n",
    "# Define Parallel/Batch\n",
    "batch_kernel = gpytorch.kernels.RBFKernel(\n",
    "    batch_shape=torch.Size([d]), ard_num_dims=1,\n",
    ").to(device=device)\n",
    "\n",
    "# Test Approaches\n",
    "from torch.utils import benchmark\n",
    "\n",
    "with gpytorch.settings.lazily_evaluate_kernels(False):\n",
    "    print(benchmark.Timer(\n",
    "        stmt=\"naive_kernel(X)\",\n",
    "        globals={\"naive_kernel\": naive_kernel, \"X\": X}\n",
    "    ).timeit(100))\n",
    "\n",
    "with gpytorch.settings.lazily_evaluate_kernels(False):\n",
    "    print(benchmark.Timer(\n",
    "        stmt=\"batch_kernel(X.mT.unsqueeze(-1)).sum(dim=-3)\",\n",
    "        globals={\"batch_kernel\": batch_kernel, \"X\": X}\n",
    "    ).timeit(100))"
   ]
  },
  {
   "cell_type": "markdown",
   "id": "7deb69e0",
   "metadata": {},
   "source": [
    "As shown above, there is an improvement in computational efficiency when the\n",
    "parallel approach is used. Please note that this cell was run on the CPU only\n",
    "and therefore a larger performance gap is expected on the GPU. In the next cell,\n",
    "we put all of this work together to define an efficient additive kernel."
   ]
  },
  {
   "cell_type": "code",
   "execution_count": 43,
   "id": "dacc8bb2",
   "metadata": {},
   "outputs": [],
   "source": [
    "# Define Efficient Additive Kernel\n",
    "class AdditiveKernelGP(gpytorch.models.ExactGP):\n",
    "    def __init__(self, X_train, y_train, d):\n",
    "        likelihood = gpytorch.likelihoods.GaussianLikelihood()\n",
    "        super().__init__(X_train, y_train, likelihood)\n",
    "\n",
    "        self.mean_module = gpytorch.means.ConstantMean()\n",
    "        self.covar_module = gpytorch.kernels.ScaleKernel(\n",
    "            gpytorch.kernels.RBFKernel(\n",
    "                batch_shape=torch.Size([d]), ard_num_dims=1\n",
    "            )\n",
    "        )\n",
    "\n",
    "    def forward(self, X):\n",
    "        mean = self.mean_module(X)\n",
    "        batched_dims_of_X = X.mT.unsqueeze(-1)\n",
    "        covar = self.covar_module(batched_dims_of_X).sum(dim=-3)\n",
    "        return gpytorch.distributions.MultivariateNormal(mean, covar)"
   ]
  },
  {
   "cell_type": "markdown",
   "id": "ce7a09b7",
   "metadata": {},
   "source": [
    "**Example 2: Products of Univariate Kernels**\n",
    "\n",
    "In a different example, we consider a multivariate kernel that is defined as the\n",
    "product of univariate kernels:\n",
    "\n",
    "$$k_{\\text{RBF}}(\\boldsymbol{x}, \\boldsymbol{x}'; \\boldsymbol{\\ell}) =\n",
    "  \\prod_{i=1}^{d}k_{\\text{RBF}}(x^{(i)}, x'^{(i)}; \\ell^{(i)})$$"
   ]
  },
  {
   "cell_type": "code",
   "execution_count": 45,
   "id": "3bcba636",
   "metadata": {},
   "outputs": [
    {
     "data": {
      "text/plain": [
       "torch.Size([10, 10])"
      ]
     },
     "execution_count": 45,
     "metadata": {},
     "output_type": "execute_result"
    }
   ],
   "source": [
    "d = 3\n",
    "n = 10\n",
    "\n",
    "batch_rbf_kernel = gpytorch.kernels.RBFKernel(\n",
    "    batch_shape=torch.Size([d]), ard_num_dims=1,\n",
    ")\n",
    "X = torch.randn(n, d)\n",
    "\n",
    "rbf_covars = batch_rbf_kernel(X.mT.unsqueeze(-1))\n",
    "with gpytorch.settings.lazily_evaluate_kernels(False):\n",
    "    prod_covar = rbf_covars.prod(dim=-3)\n",
    "prod_covar.shape"
   ]
  },
  {
   "cell_type": "markdown",
   "id": "a584553e",
   "metadata": {},
   "source": [
    "Note that this example in particular is silly since the multivariate RBF kernel\n",
    "is exactly equivalent to the product of $d$ univariate RBF kernels:\n",
    "\n",
    "$$k_{\\text{RBF}}(\\boldsymbol{x}, \\boldsymbol{x}') = \\prod_{i=1}^{d}\n",
    "  k_{\\text{RBF}}(x^{(i)}, x'^{(i)})$$\n",
    "\n",
    "However, this strategy becomes advantageous when each of the univariate kernel\n",
    "components are approximated using a scalable $<<\\mathcal{O}(n^3)$ approximation\n",
    "for each of the univariate kernels."
   ]
  },
  {
   "cell_type": "markdown",
   "id": "712dfa5b",
   "metadata": {},
   "source": [
    "### Defining a Custom Kernel\n",
    "In this section, we will examine how to implement a custom kernel in GPyTorch.\n",
    "These examples are adapted from the\n",
    "[Implementing a Custom Kernel](https://docs.gpytorch.ai/en/stable/examples/00_Basic_Usage/Implementing_a_custom_Kernel.html)\n",
    "notebook provided within the GPyTorch documentation."
   ]
  },
  {
   "cell_type": "markdown",
   "id": "59b4dfbe",
   "metadata": {},
   "source": [
    "Before we begin, we will define some training data and helper functions."
   ]
  },
  {
   "cell_type": "code",
   "execution_count": 74,
   "id": "86741980",
   "metadata": {},
   "outputs": [],
   "source": [
    "# Define Training Data\n",
    "import os\n",
    "smoke_test = ('CI' in os.environ)\n",
    "training_iter = 2 if smoke_test else 50\n",
    "\n",
    "\"\"\"\n",
    "Training data is 100 points, evenly spaced in the range [0, 1]\n",
    "\"\"\"\n",
    "train_x = torch.linspace(0, 1, 100)\n",
    "\n",
    "\"\"\"\n",
    "True function is sin(2 * pi * x) with Gaussian noise\n",
    "\"\"\"\n",
    "train_y = (torch.sin(train_x * (2 * math.pi)) +\n",
    "           torch.randn(train_x.size()) * math.sqrt(0.04))"
   ]
  },
  {
   "cell_type": "code",
   "execution_count": 75,
   "id": "c5ebcfe9",
   "metadata": {},
   "outputs": [],
   "source": [
    "# Define Helper Functions for Training, Predicting, and Plotting\n",
    "def train(model, likelihood, training_iter=training_iter):\n",
    "    # Use Adam Optimizer\n",
    "    optimizer = torch.optim.Adam(model.parameters(), lr=0.1)\n",
    "\n",
    "    # Define the \"Loss\" for GPs - the marginal log-likelihood\n",
    "    mll = gpytorch.mlls.ExactMarginalLogLikelihood(likelihood, model)\n",
    "\n",
    "    for i in range(training_iter):\n",
    "        # Zero gradients from previous iteration\n",
    "        optimizer.zero_grad()\n",
    "\n",
    "        # Obtain output from model\n",
    "        output = model(train_x)\n",
    "\n",
    "        # Compute loss and backprop gradients\n",
    "        loss = -mll(output, train_y)\n",
    "        loss.backward()\n",
    "        optimizer.step()\n",
    "\n",
    "\n",
    "def predict(model, likelihood, test_x=torch.linspace(0, 1, 51)):\n",
    "    model.eval()\n",
    "    likelihood.eval()\n",
    "\n",
    "    with torch.no_grad(), gpytorch.settings.fast_pred_var():\n",
    "        return likelihood(model(test_x))\n",
    "\n",
    "\n",
    "def plot(observed_pred, test_x=torch.linspace(0, 1, 51)):\n",
    "    with torch.no_grad():\n",
    "        # Define plot\n",
    "        f, ax = plt.subplots(1, 1, figsize=(4, 3))\n",
    "\n",
    "        # Obtain Upper and Lower Confidence Bounds\n",
    "        lcb, ucb = observed_pred.confidence_region()\n",
    "\n",
    "        # Plot Training Data (black stars)\n",
    "        ax.plot(train_x.numpy(), train_y.numpy(), \"k*\")\n",
    "\n",
    "        # Plot Predictive Means (blue line)\n",
    "        ax.plot(test_x.numpy(), observed_pred.mean.numpy(), \"b\")\n",
    "\n",
    "        # Shade Confidence Region\n",
    "        ax.fill_between(test_x.numpy(), lcb.numpy(), ucb.numpy(), alpha=0.5)\n",
    "\n",
    "        ax.set_ylim([-3, 3])\n",
    "        ax.legend(['Observed Data', 'Mean', 'Confidence'])"
   ]
  },
  {
   "cell_type": "markdown",
   "id": "adbd2a63",
   "metadata": {},
   "source": [
    "To implement our own custom kernel, we can derive one from the GPyTorch `Kernel`\n",
    "class and implement the `forward()` method. The base class provides us with many\n",
    "useful routines. For instance, `__call__()` is implemented meaning that the\n",
    "kernel can be called directly, without needing to resort to the `forward()`\n",
    "routine. In addition, the `Kernel` class also provides a method `covar_dist()`\n",
    "that can be used to compute the Euclidean distance between point pairs."
   ]
  },
  {
   "cell_type": "code",
   "execution_count": 76,
   "id": "32070939",
   "metadata": {},
   "outputs": [],
   "source": [
    "# Define Custom Kernel\n",
    "class FirstSincKernel(gpytorch.kernels.Kernel):\n",
    "    # The sinc kernel is stationary\n",
    "    is_stationary = True\n",
    "\n",
    "    def forward(self, x1, x2, **params):\n",
    "        \"\"\"\n",
    "        This is the kernel function. It should return a `torch.Tensor` or a\n",
    "        `linear_operator.operators.LinearOperator`, when called on two tensors.\n",
    "        \"\"\"\n",
    "        # Calculate the distance between inputs\n",
    "        diff = self.covar_dist(x1, x2, **params)\n",
    "\n",
    "        # Prevent Divide by 0 errors\n",
    "        diff.where(diff == 0, torch.as_tensor(1e-20))\n",
    "\n",
    "        # Return sinc(diff) = sin(diff) / diff\n",
    "        return torch.sin(diff).div(diff)"
   ]
  },
  {
   "cell_type": "markdown",
   "id": "0725a419",
   "metadata": {},
   "source": [
    "Now that this kernel is ready to use, we can define a GP-model, similar to\n",
    "examples previously discussed in this notebook."
   ]
  },
  {
   "cell_type": "code",
   "execution_count": 77,
   "id": "9daba225",
   "metadata": {},
   "outputs": [],
   "source": [
    "# Define GP Model\n",
    "class FirstGPModel(gpytorch.models.ExactGP):\n",
    "    def __init__(self, train_x, train_y, likelihood):\n",
    "        super().__init__(train_x, train_y, likelihood)\n",
    "        self.mean_module = gpytorch.means.ConstantMean()\n",
    "        self.covar_module = FirstSincKernel()\n",
    "\n",
    "    def forward(self, x):\n",
    "        mean_x = self.mean_module(x)\n",
    "        covar_x = self.covar_module(x)\n",
    "        return gpytorch.distributions.MultivariateNormal(mean_x, covar_x)"
   ]
  },
  {
   "cell_type": "markdown",
   "id": "131d95d4",
   "metadata": {},
   "source": [
    "Using this GP model, which uses our custom kernel, we can train and evaluate\n",
    "the model."
   ]
  },
  {
   "cell_type": "code",
   "execution_count": 78,
   "id": "07206fe3",
   "metadata": {},
   "outputs": [
    {
     "data": {
      "image/png": "[encoded data removed]",
      "text/plain": [
       "<Figure size 400x300 with 1 Axes>"
      ]
     },
     "metadata": {},
     "output_type": "display_data"
    }
   ],
   "source": [
    "# Initialize Likelihood and Model\n",
    "likelihood = gpytorch.likelihoods.GaussianLikelihood()\n",
    "model = FirstGPModel(train_x, train_y, likelihood)\n",
    "\n",
    "# Put Model in Training Mode\n",
    "model.train()\n",
    "likelihood.train()\n",
    "\n",
    "# Train Model\n",
    "train(model, likelihood)\n",
    "\n",
    "# Put Model in Evaluation Mode\n",
    "model.eval()\n",
    "likelihood.eval()\n",
    "observed_pred = predict(model, likelihood)\n",
    "\n",
    "# Plot Results\n",
    "plot(observed_pred)"
   ]
  },
  {
   "cell_type": "markdown",
   "id": "e616862b",
   "metadata": {},
   "source": [
    "As we can see, the kernel does not perform well due to the fact that it lacks a\n",
    "lengthscale parameter. We will add this next."
   ]
  },
  {
   "cell_type": "markdown",
   "id": "3c7f36f3",
   "metadata": {},
   "source": [
    "**Adding Hyperparameters**\n",
    "\n",
    "As seen previously, while we were able to use the kernel to define a GP model,\n",
    "its performance is less than sufficient since it lacks a lengthscale parameter.\n",
    "A _lengthscale parameter_ controls the correlation length and in GPyTorch, the\n",
    "lengthscale is implemented as a hyperparameter.\n",
    "\n",
    "First, the parameter must be registered using the method `register_parameter()`.\n",
    "The `Kernel` class inherits this method from `Module`. We will register the\n",
    "constraints and priors in a similar manner."
   ]
  },
  {
   "cell_type": "code",
   "execution_count": 79,
   "id": "d1561a63",
   "metadata": {},
   "outputs": [],
   "source": [
    "# Import Positivity Constraint\n",
    "from gpytorch.constraints import Positive"
   ]
  },
  {
   "cell_type": "code",
   "execution_count": 80,
   "id": "8adc246c",
   "metadata": {},
   "outputs": [],
   "source": [
    "# Re-Define Kernel\n",
    "class SincKernel(gpytorch.kernels.Kernel):\n",
    "    is_stationary = True\n",
    "\n",
    "    # Register the parameter when initializing the kernel\n",
    "    def __init__(self, length_prior=None, length_constraint=None, **kwargs):\n",
    "        super().__init__(**kwargs)\n",
    "\n",
    "        # Register the raw parameter\n",
    "        self.register_parameter(\n",
    "            name='raw_length',\n",
    "            parameter=torch.nn.Parameter(torch.zeros(*self.batch_shape, 1, 1))\n",
    "        )\n",
    "\n",
    "        # Set the parameter constraint to be positive, if nothing is specified\n",
    "        if length_constraint is None:\n",
    "            length_constraint = Positive()\n",
    "\n",
    "        # Register the constraint\n",
    "        self.register_constraint(\"raw_length\", length_constraint)\n",
    "\n",
    "        # Set the parameter prior\n",
    "        if length_prior is not None:\n",
    "            self.register_prior(\n",
    "                \"length_prior\",\n",
    "                length_prior,\n",
    "                lambda m: m.length,\n",
    "                lambda m, v : m.set_length(v),\n",
    "            )\n",
    "    \n",
    "    # Now set up the 'actual' parameter\n",
    "    @property\n",
    "    def length(self):\n",
    "        # When accessing the parameter, apply the constraint transform\n",
    "        return self.raw_length_constraint.transform(self.raw_length)\n",
    "    \n",
    "    @length.setter\n",
    "    def length(self, value):\n",
    "        return self._set_length(value)\n",
    "    \n",
    "    def _set_length(self, value):\n",
    "        if not torch.is_tensor(value):\n",
    "            value = torch.as_tensor(value).to(self.raw_length)\n",
    "    \n",
    "    def forward(self, x1, x2, **params):\n",
    "        \"\"\"\n",
    "        This is the kernel function.\n",
    "        \"\"\"\n",
    "        # Apply lengthscale\n",
    "        x1_ = x1.div(self.length)\n",
    "        x2_ = x2.div(self.length)\n",
    "\n",
    "        # Compute distance between inputs\n",
    "        diff = self.covar_dist(x1_, x2_, **params)\n",
    "\n",
    "        # Prevent divide by 0 errors\n",
    "        diff.where(diff == 0, torch.as_tensor(1e-20))\n",
    "\n",
    "        # Return sinc(diff) = sin(diff) / diff\n",
    "        return torch.sin(diff).div(diff)"
   ]
  },
  {
   "cell_type": "markdown",
   "id": "909eaccf",
   "metadata": {},
   "source": [
    "Now, we can use this re-defined version of the `SincKernel` to define a new\n",
    "GP model, train it and make predictions."
   ]
  },
  {
   "cell_type": "code",
   "execution_count": 81,
   "id": "8b9f7861",
   "metadata": {},
   "outputs": [],
   "source": [
    "# Define new GP model\n",
    "class SincGPModel(gpytorch.models.ExactGP):\n",
    "    def __init__(self, train_x, train_y, likelihood):\n",
    "        super().__init__(train_x, train_y, likelihood)\n",
    "        self.mean_module = gpytorch.means.ConstantMean()\n",
    "        self.covar_module = SincKernel()\n",
    "\n",
    "    def forward(self, x):\n",
    "        mean_x = self.mean_module(x)\n",
    "        covar_x = self.covar_module(x)\n",
    "        return gpytorch.distributions.MultivariateNormal(mean_x, covar_x)"
   ]
  },
  {
   "cell_type": "code",
   "execution_count": 82,
   "id": "ee39e1d3",
   "metadata": {},
   "outputs": [
    {
     "data": {
      "image/png": "[encoded data removed]",
      "text/plain": [
       "<Figure size 400x300 with 1 Axes>"
      ]
     },
     "metadata": {},
     "output_type": "display_data"
    }
   ],
   "source": [
    "# Initialize New Model\n",
    "model = SincGPModel(train_x, train_y, likelihood)\n",
    "\n",
    "# Set Model to Training Mode\n",
    "model.train()\n",
    "likelihood.train()\n",
    "train(model, likelihood)\n",
    "\n",
    "# Set Model to Evaluation Mode\n",
    "model.eval()\n",
    "likelihood.eval()\n",
    "\n",
    "# Make Predictions\n",
    "observed_pred = predict(model, likelihood)\n",
    "\n",
    "# Plot Results\n",
    "plot(observed_pred)"
   ]
  },
  {
   "cell_type": "markdown",
   "id": "2d09fe23",
   "metadata": {},
   "source": [
    "Clearly, adding the lengthscale helped the kernel perform much better when\n",
    "modeling the observed data. However, since many kernels use a lengthscale, there\n",
    "is a much simpler way to implement it in custom kernels. This is accomplished by\n",
    "using the `has_lengthscale` attribute from the `Kernel` class."
   ]
  },
  {
   "cell_type": "code",
   "execution_count": 83,
   "id": "8975ea03",
   "metadata": {},
   "outputs": [
    {
     "data": {
      "image/png": "[encoded data removed]",
      "text/plain": [
       "<Figure size 400x300 with 1 Axes>"
      ]
     },
     "metadata": {},
     "output_type": "display_data"
    }
   ],
   "source": [
    "# Simpler Implementation of Lengthscale\n",
    "class SimpleSincKernel(gpytorch.kernels.Kernel):\n",
    "    has_lengthscale = True\n",
    "\n",
    "    def forward(self, x1, x2, **params):\n",
    "        \"\"\"\n",
    "        This is the kernel function.\n",
    "        \"\"\"\n",
    "        # Apply lengthscale\n",
    "        x1_ = x1.div(self.lengthscale)\n",
    "        x2_ = x2.div(self.lengthscale)\n",
    "\n",
    "        # Compute distance between inputs\n",
    "        diff = self.covar_dist(x1_, x2_, **params)\n",
    "\n",
    "        # Prevent Divide by 0 errors\n",
    "        diff.where(diff == 0, torch.as_tensor(1e-20))\n",
    "\n",
    "        # Return sinc(diff) = sin(diff) / diff\n",
    "        return torch.sin(diff).div(diff)\n",
    "\n",
    "class SimpleSincGPModel(gpytorch.models.ExactGP):\n",
    "    def __init__(self, train_x, train_y, likelihood):\n",
    "        super().__init__(train_x, train_y, likelihood)\n",
    "        self.mean_module = gpytorch.means.ConstantMean()\n",
    "        self.covar_module = SimpleSincKernel()\n",
    "    \n",
    "    def forward(self, x):\n",
    "        mean_x = self.mean_module(x)\n",
    "        covar_x = self.covar_module(x)\n",
    "        return gpytorch.distributions.MultivariateNormal(mean_x, covar_x)\n",
    "\n",
    "model = SimpleSincGPModel(train_x, train_y, likelihood)\n",
    "\n",
    "model.train()\n",
    "likelihood.train()\n",
    "train(model, likelihood)\n",
    "\n",
    "model.eval()\n",
    "likelihood.eval()\n",
    "\n",
    "observed_pred = predict(model, likelihood)\n",
    "plot(observed_pred)"
   ]
  },
  {
   "cell_type": "markdown",
   "id": "163fc035",
   "metadata": {},
   "source": [
    "### Assessing GP Model Generalization (Metrics)\n",
    "In this section, we review the various metrics provided by GPyTorch that can be\n",
    "used to assess the generalization of Gaussian process models. These examples are\n",
    "adapted from the\n",
    "[Tutorial on Metrics](https://docs.gpytorch.ai/en/stable/examples/00_Basic_Usage/Metrics.html)\n",
    "notebook provided within the GPyTorch documentation."
   ]
  },
  {
   "cell_type": "markdown",
   "id": "0c55566c",
   "metadata": {},
   "source": [
    "To evaluate GPyTorch models, we will use probabilistic metrics. We will modeling\n",
    "the function\n",
    "\n",
    "$$y = \\sin(2\\pi x) + \\epsilon$$\n",
    "\n",
    "$$\\epsilon \\sim \\mathcal{N}(0, 0.04)$$"
   ]
  },
  {
   "cell_type": "code",
   "execution_count": 84,
   "id": "e05f5ccc",
   "metadata": {},
   "outputs": [],
   "source": [
    "# Define Training Data\n",
    "train_x = torch.linspace(0, 1, 100)\n",
    "train_y = (torch.sin(train_x * (2 * math.pi)) +\n",
    "           torch.randn(train_x.size()) * math.sqrt(0.04))\n",
    "\n",
    "# Define Testing Data\n",
    "test_x = torch.linspace(0, 1, 51)\n",
    "test_y = (torch.sin(test_x * (2 * math.pi)) +\n",
    "          torch.randn(test_x.size()) * math.sqrt(0.04))"
   ]
  },
  {
   "cell_type": "code",
   "execution_count": 85,
   "id": "1664735f",
   "metadata": {},
   "outputs": [],
   "source": [
    "# Define Simple GP Regression Model\n",
    "class ExactGPModel(gpytorch.models.ExactGP):\n",
    "    def __init__(self, train_x, train_y, likelihood):\n",
    "        super(ExactGPModel, self).__init__(train_x, train_y, likelihood)\n",
    "        self.mean_module = gpytorch.means.ConstantMean()\n",
    "        self.covar_module = gpytorch.kernels.ScaleKernel(\n",
    "            gpytorch.kernels.RBFKernel()\n",
    "        )\n",
    "    \n",
    "    def forward(self, x):\n",
    "        mean_x = self.mean_module(x)\n",
    "        covar_x = self.covar_module(x)\n",
    "        return gpytorch.distributions.MultivariateNormal(mean_x, covar_x)"
   ]
  },
  {
   "cell_type": "code",
   "execution_count": 86,
   "id": "b80f5a92",
   "metadata": {},
   "outputs": [],
   "source": [
    "# Initialize likelihood and model\n",
    "likelihood = gpytorch.likelihoods.GaussianLikelihood()\n",
    "model = ExactGPModel(train_x, train_y, likelihood)"
   ]
  },
  {
   "cell_type": "markdown",
   "id": "05842979",
   "metadata": {},
   "source": [
    "The model is ready for hyperparameter learning but let's first check how it\n",
    "performs on the test data."
   ]
  },
  {
   "cell_type": "code",
   "execution_count": 87,
   "id": "fa0d3a84",
   "metadata": {},
   "outputs": [
    {
     "data": {
      "image/png": "[encoded data removed]",
      "text/plain": [
       "<Figure size 400x300 with 1 Axes>"
      ]
     },
     "metadata": {},
     "output_type": "display_data"
    }
   ],
   "source": [
    "# Check Model Performance Before Learning\n",
    "model.eval()\n",
    "with torch.no_grad():\n",
    "    untrained_pred_dist = likelihood(model(test_x))\n",
    "    predictive_mean = untrained_pred_dist.mean\n",
    "    lcb, ucb = untrained_pred_dist.confidence_region()\n",
    "\n",
    "f, ax = plt.subplots(1, 1, figsize=(4, 3))\n",
    "ax.plot(train_x, train_y, 'k*')\n",
    "ax.plot(test_x, predictive_mean, 'b')\n",
    "ax.fill_between(test_x, lcb, ucb, alpha=0.5)\n",
    "ax.set_ylim([-3, 3])\n",
    "ax.legend(['Observed Data', 'Mean', 'Confidence'], bbox_to_anchor=(1.6, 1))\n",
    "plt.show()"
   ]
  },
  {
   "cell_type": "markdown",
   "id": "83082677",
   "metadata": {},
   "source": [
    "Visually, this does not look like a good fit. Thus, we will now train the model\n",
    "hyperparameters."
   ]
  },
  {
   "cell_type": "code",
   "execution_count": 88,
   "id": "7718a3dd",
   "metadata": {},
   "outputs": [
    {
     "name": "stdout",
     "output_type": "stream",
     "text": [
      "Iteration 10/50 - Loss: 0.545    lengthscale: 0.342    noise: 0.339\n",
      "Iteration 20/50 - Loss: 0.191    lengthscale: 0.211    noise: 0.134\n",
      "Iteration 30/50 - Loss: -0.064    lengthscale: 0.257    noise: 0.053\n",
      "Iteration 40/50 - Loss: -0.079    lengthscale: 0.316    noise: 0.029\n",
      "Iteration 50/50 - Loss: -0.085    lengthscale: 0.277    noise: 0.030\n"
     ]
    }
   ],
   "source": [
    "# Train the Model\n",
    "import os\n",
    "smoke_test = ('CI' in os.environ)\n",
    "training_iter = 2 if smoke_test else 50\n",
    "\n",
    "model.train()\n",
    "optimizer = torch.optim.Adam(model.parameters(), lr=0.1)\n",
    "mll = gpytorch.mlls.ExactMarginalLogLikelihood(likelihood, model)\n",
    "\n",
    "for i in range(training_iter):\n",
    "    optimizer.zero_grad()\n",
    "    output = model(train_x)\n",
    "    loss = -mll(output, train_y)\n",
    "    loss.backward()\n",
    "    \n",
    "    if (i + 1) % 10 == 0:\n",
    "        print('Iteration %d/%d - Loss: %.3f    lengthscale: %.3f    noise: %.3f'\n",
    "               % (i + 1, training_iter, loss.item(),\n",
    "                  model.covar_module.base_kernel.lengthscale.item(),\n",
    "                  model.likelihood.noise.item()\n",
    "                 )\n",
    "        )\n",
    "\n",
    "    optimizer.step()"
   ]
  },
  {
   "cell_type": "markdown",
   "id": "faa186e1",
   "metadata": {},
   "source": [
    "Next, let's reevaluate the model on the test data."
   ]
  },
  {
   "cell_type": "code",
   "execution_count": 89,
   "id": "93016656",
   "metadata": {},
   "outputs": [
    {
     "data": {
      "image/png": "[encoded data removed]",
      "text/plain": [
       "<Figure size 400x300 with 1 Axes>"
      ]
     },
     "metadata": {},
     "output_type": "display_data"
    }
   ],
   "source": [
    "model.eval()\n",
    "with torch.no_grad():\n",
    "    trained_pred_dist = likelihood(model(test_x))\n",
    "    pred_mean = trained_pred_dist.mean\n",
    "    lcb, ucb = trained_pred_dist.confidence_region()\n",
    "\n",
    "f, ax = plt.subplots(1, 1, figsize=(4, 3))\n",
    "ax.plot(train_x, train_y, 'k*')\n",
    "ax.plot(test_x, pred_mean, 'b')\n",
    "ax.fill_between(test_x, lcb, ucb, alpha=0.5)\n",
    "ax.set_ylim([-3, 3])\n",
    "ax.legend(['Observed Data', 'Mean', 'Confidence'], bbox_to_anchor=(1.6, 1))\n",
    "plt.show()"
   ]
  },
  {
   "cell_type": "markdown",
   "id": "eac27942",
   "metadata": {},
   "source": [
    "After training, the fit is visually much better. However, in order to get a\n",
    "quantitative measurement for how \"good\" the fit is, we can use various\n",
    "probabilistic metrics. In particular, when applying models to high-dimensional\n",
    "data it can be difficult (and more often than not, impossible) to visualize the\n",
    "model's performance. Recall that we have saved the predictive distributions from\n",
    "untrained and trained models as `untrained_pred_dist` and `trained_pred_dist`,\n",
    "respectively."
   ]
  },
  {
   "cell_type": "markdown",
   "id": "c7481f83",
   "metadata": {},
   "source": [
    "**Negative Log Predictive Density (NLPD)**\n",
    "\n",
    "Negative Log Predictive Density (NLPD) is one of the most standard probabilistic\n",
    "metric for evaluating GP models. Simply put, NLPD is the negative log-likelihood\n",
    "of the test data given the predictive distribution."
   ]
  },
  {
   "cell_type": "code",
   "execution_count": 90,
   "id": "d75ad89d",
   "metadata": {},
   "outputs": [
    {
     "name": "stdout",
     "output_type": "stream",
     "text": [
      "Untrained model NLPD: 0.86, \n",
      "Trained model NLPD: -0.20\n"
     ]
    }
   ],
   "source": [
    "# Negative Log Predictive Density (NLPD)\n",
    "from gpytorch.metrics import negative_log_predictive_density as nlpd\n",
    "\n",
    "init_nlpd = nlpd(untrained_pred_dist, test_y)\n",
    "final_nlpd = nlpd(trained_pred_dist, test_y)\n",
    "\n",
    "print(f'Untrained model NLPD: {init_nlpd:.2f}, \\nTrained model NLPD: {final_nlpd:.2f}')"
   ]
  },
  {
   "cell_type": "markdown",
   "id": "e589282d",
   "metadata": {},
   "source": [
    "**Mean Standardized Log Loss (MSLL)**\n",
    "\n",
    "Mean Standardized Log Loss (MSLL) computes the average negative log-likelihood\n",
    "of all test points with respect to their univariate predictive densities. Note\n",
    "that it is also possible to calculate the quantile coverage error."
   ]
  },
  {
   "cell_type": "code",
   "execution_count": 91,
   "id": "72c6395b",
   "metadata": {},
   "outputs": [
    {
     "name": "stdout",
     "output_type": "stream",
     "text": [
      "Untrained model MSLL: 0.86, \n",
      "Trained model MSLL: -0.19\n"
     ]
    }
   ],
   "source": [
    "# Mean Standardized Log Loss (MSLL)\n",
    "from gpytorch.metrics import mean_standardized_log_loss as msll\n",
    "\n",
    "init_msll = msll(untrained_pred_dist, test_y)\n",
    "final_msll = msll(trained_pred_dist, test_y)\n",
    "\n",
    "print(f'Untrained model MSLL: {init_msll:.2f}, \\nTrained model MSLL: {final_msll:.2f}')"
   ]
  },
  {
   "cell_type": "code",
   "execution_count": 92,
   "id": "bef2f6cd",
   "metadata": {},
   "outputs": [
    {
     "name": "stdout",
     "output_type": "stream",
     "text": [
      "Quantile 95% Coverage Error: 0.03\n"
     ]
    }
   ],
   "source": [
    "# Quantile Coverage Error\n",
    "from gpytorch.metrics import quantile_coverage_error\n",
    "quantile = 95\n",
    "qce = quantile_coverage_error(trained_pred_dist, test_y, quantile=quantile)\n",
    "print(f'Quantile {quantile}% Coverage Error: {qce:.2f}')"
   ]
  },
  {
   "cell_type": "markdown",
   "id": "32b688e1",
   "metadata": {},
   "source": [
    "**Mean Squared Error (MSE)**\n",
    "\n",
    "Mean Squared Error (MSE) computes the mean of the squared difference between the\n",
    "test observations and the predictive mean. MSE is a standard metric for\n",
    "evaluating regression models although it cannot take uncertainty into account\n",
    "unlike NLPD, MLSS, and ACE."
   ]
  },
  {
   "cell_type": "code",
   "execution_count": 93,
   "id": "a4b20f01",
   "metadata": {},
   "outputs": [
    {
     "name": "stdout",
     "output_type": "stream",
     "text": [
      "Untrained model MSE: 0.17, \n",
      "Trained model MSE: 0.04\n"
     ]
    }
   ],
   "source": [
    "# Mean Squared Error (MSE)\n",
    "from gpytorch.metrics import mean_squared_error as mse\n",
    "\n",
    "init_mse = mse(untrained_pred_dist, test_y, squared=True)\n",
    "final_mse = mse(trained_pred_dist, test_y, squared=True)\n",
    "\n",
    "print(f'Untrained model MSE: {init_mse:.2f}, \\nTrained model MSE: {final_mse:.2f}')"
   ]
  },
  {
   "cell_type": "markdown",
   "id": "b6bae7c3",
   "metadata": {},
   "source": [
    "**Mean Absolute Error (MAE)**\n",
    "\n",
    "Mean Absolute Error (MAE) computes the mean of the absolute difference between\n",
    "the test observations and the predictive mean. This metric is less sensitive to\n",
    "outliers than MSE."
   ]
  },
  {
   "cell_type": "code",
   "execution_count": 94,
   "id": "dc8b4b03",
   "metadata": {},
   "outputs": [
    {
     "name": "stdout",
     "output_type": "stream",
     "text": [
      "Untrained model MAE: 0.35, \n",
      "Trained model MAE: 0.16\n"
     ]
    }
   ],
   "source": [
    "# Mean Absolute Error (MAE)\n",
    "from gpytorch.metrics import mean_absolute_error as mae\n",
    "\n",
    "init_mae = mae(untrained_pred_dist, test_y)\n",
    "final_mae = mae(trained_pred_dist, test_y)\n",
    "\n",
    "print(f'Untrained model MAE: {init_mae:.2f}, \\nTrained model MAE: {final_mae:.2f}')"
   ]
  },
  {
   "cell_type": "markdown",
   "id": "69258314",
   "metadata": {},
   "source": [
    "## GAUCHE Implementation"
   ]
  },
  {
   "cell_type": "markdown",
   "id": "f637d747",
   "metadata": {},
   "source": []
  },
  {
   "cell_type": "markdown",
   "id": "f4eef6fc",
   "metadata": {},
   "source": [
    "### Examples"
   ]
  },
  {
   "cell_type": "code",
   "execution_count": null,
   "id": "531228c6",
   "metadata": {},
   "outputs": [],
   "source": []
  },
  {
   "cell_type": "markdown",
   "id": "4adcc8e3",
   "metadata": {},
   "source": [
    "## Implementation Comparison"
   ]
  },
  {
   "cell_type": "markdown",
   "id": "8c13c1d6",
   "metadata": {},
   "source": []
  }
 ],
 "metadata": {
  "kernelspec": {
   "display_name": "Python 3",
   "language": "python",
   "name": "python3"
  },
  "language_info": {
   "codemirror_mode": {
    "name": "ipython",
    "version": 3
   },
   "file_extension": ".py",
   "mimetype": "text/x-python",
   "name": "python",
   "nbconvert_exporter": "python",
   "pygments_lexer": "ipython3",
   "version": "3.12.4"
  }
 },
 "nbformat": 4,
 "nbformat_minor": 5
}
