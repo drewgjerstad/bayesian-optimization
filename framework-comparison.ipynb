{
 "cells": [
  {
   "cell_type": "markdown",
   "id": "c1d97bba",
   "metadata": {},
   "source": [
    "# Comparison of GPyTorch and GAUCHE\n",
    "**Author:** Drew Gjerstad"
   ]
  },
  {
   "cell_type": "markdown",
   "id": "47b9306c",
   "metadata": {},
   "source": [
    "## Introduction"
   ]
  },
  {
   "cell_type": "markdown",
   "id": "b7bf4bdf",
   "metadata": {},
   "source": []
  },
  {
   "cell_type": "markdown",
   "id": "aab50d0e",
   "metadata": {},
   "source": [
    "## GPyTorch Implementation"
   ]
  },
  {
   "cell_type": "markdown",
   "id": "75eab02d",
   "metadata": {},
   "source": []
  },
  {
   "cell_type": "markdown",
   "id": "d5798d54",
   "metadata": {},
   "source": [
    "### Examples"
   ]
  },
  {
   "cell_type": "code",
   "execution_count": null,
   "id": "9d2d1a0d",
   "metadata": {},
   "outputs": [],
   "source": []
  },
  {
   "cell_type": "markdown",
   "id": "69258314",
   "metadata": {},
   "source": [
    "## GAUCHE Implementation"
   ]
  },
  {
   "cell_type": "markdown",
   "id": "f637d747",
   "metadata": {},
   "source": []
  },
  {
   "cell_type": "markdown",
   "id": "f4eef6fc",
   "metadata": {},
   "source": [
    "### Examples"
   ]
  },
  {
   "cell_type": "code",
   "execution_count": null,
   "id": "531228c6",
   "metadata": {},
   "outputs": [],
   "source": []
  },
  {
   "cell_type": "markdown",
   "id": "4adcc8e3",
   "metadata": {},
   "source": [
    "## Implementation Comparison"
   ]
  },
  {
   "cell_type": "markdown",
   "id": "8c13c1d6",
   "metadata": {},
   "source": []
  }
 ],
 "metadata": {
  "kernelspec": {
   "display_name": "Python 3",
   "language": "python",
   "name": "python3"
  },
  "language_info": {
   "name": "python",
   "version": "3.12.4"
  }
 },
 "nbformat": 4,
 "nbformat_minor": 5
}
